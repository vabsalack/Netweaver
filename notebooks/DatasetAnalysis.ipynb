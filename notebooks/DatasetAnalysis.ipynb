{
 "cells": [
  {
   "cell_type": "markdown",
   "metadata": {},
   "source": [
    "# Dataset Analysis"
   ]
  },
  {
   "cell_type": "code",
   "execution_count": 1,
   "metadata": {},
   "outputs": [],
   "source": [
    "import cv2\n",
    "import numpy as np\n",
    "\n",
    "np.set_printoptions(linewidth=200)\n",
    "image_data = cv2.imread(\n",
    "    \"/home/keerthivasan_user/Documents/git/netweaver/datasets/fashion_mnist_images/train/0/0000.png\"\n",
    ")\n",
    "image_data_unchanged = cv2.imread(\n",
    "    \"/home/keerthivasan_user/Documents/git/netweaver/datasets/fashion_mnist_images/train/0/0000.png\",\n",
    "    cv2.IMREAD_UNCHANGED,\n",
    ")"
   ]
  },
  {
   "cell_type": "code",
   "execution_count": 2,
   "metadata": {},
   "outputs": [
    {
     "name": "stdout",
     "output_type": "stream",
     "text": [
      "Data type of image_data: <class 'numpy.ndarray'> shape: (28, 28, 3) dtype: <class 'numpy.uint8'>\n",
      "   image_data_unchanged: <class 'numpy.ndarray'> shape: (28, 28)    dtype: <class 'numpy.uint8'>\n"
     ]
    }
   ],
   "source": [
    "print(f\"\"\"Data type of image_data: {type(image_data)} shape: {image_data.shape} dtype: {type(image_data[0][0][0])}\n",
    "   image_data_unchanged: {type(image_data_unchanged)} shape: {image_data_unchanged.shape}    dtype: {type(image_data_unchanged[0][0])}\"\"\")"
   ]
  },
  {
   "cell_type": "code",
   "execution_count": 3,
   "metadata": {},
   "outputs": [
    {
     "data": {
      "image/png": "[encoded data removed]",
      "text/plain": [
       "<Figure size 1000x500 with 2 Axes>"
      ]
     },
     "metadata": {},
     "output_type": "display_data"
    },
    {
     "name": "stdout",
     "output_type": "stream",
     "text": [
      "[[  0   0   0   0   0   1   0   0   0   0  41 188 103  54  48  43  87 168 133  16   0   0   0   0   0   0   0   0]\n",
      " [  0   0   0   1   0   0   0  49 136 219 216 228 236 255 255 255 255 217 215 254 231 160  45   0   0   0   0   0]\n",
      " [  0   0   0   0   0  14 176 222 224 212 203 198 196 200 215 204 202 201 201 201 209 218 224 164   0   0   0   0]\n",
      " [  0   0   0   0   0 188 219 200 198 202 198 199 199 201 196 198 198 200 200 200 200 201 200 225  41   0   0   0]\n",
      " [  0   0   0   0  51 219 199 203 203 212 238 248 250 245 249 246 247 252 248 235 207 203 203 222 140   0   0   0]\n",
      " [  0   0   0   0 116 226 206 204 207 204 101  75  47  73  48  50  45  51  63 113 222 202 206 220 224   0   0   0]\n",
      " [  0   0   0   0 200 222 209 203 215 200   0  70  98   0 103  59  68  71  49   0 219 206 214 210 250  38   0   0]\n",
      " [  0   0   0   0 247 218 212 210 215 214   0 254 243 139 255 174 251 255 205   0 215 217 214 208 220  95   0   0]\n",
      " [  0   0   0  45 226 214 214 215 224 205   0  42  35  60  16  17  12  13  70   0 189 216 212 206 212 156   0   0]\n",
      " [  0   0   0 164 235 214 211 220 216 201  52  71  89  94  83  78  70  76  92  87 206 207 222 213 219 208   0   0]\n",
      " [  0   0   0 106 187 223 237 248 211 198 252 250 248 245 248 252 253 250 252 239 201 212 225 215 193 113   0   0]\n",
      " [  0   0   0   0   0  17  54 159 222 193 208 192 197 200 200 200 200 201 203 195 210 165   0   0   0   0   0   0]\n",
      " [  0   0   0   0   0   0   0  47 225 192 214 203 206 204 204 205 206 204 212 197 218 107   0   0   0   0   0   0]\n",
      " [  0   0   0   0   1   6   0  46 212 195 212 202 206 205 204 205 206 204 212 200 218  91   0   3   1   0   0   0]\n",
      " [  0   0   0   0   0   1   0  11 197 199 205 202 205 206 204 205 207 204 205 205 218  77   0   5   0   0   0   0]\n",
      " [  0   0   0   0   0   3   0   2 191 198 201 205 206 205 205 206 209 206 199 209 219  74   0   5   0   0   0   0]\n",
      " [  0   0   0   0   0   2   0   0 188 197 200 207 207 204 207 207 210 208 198 207 221  72   0   4   0   0   0   0]\n",
      " [  0   0   0   0   0   2   0   0 215 198 203 206 208 205 207 207 210 208 200 202 222  75   0   4   0   0   0   0]\n",
      " [  0   0   0   0   0   1   0   0 212 198 209 206 209 206 208 207 211 206 205 198 221  80   0   3   0   0   0   0]\n",
      " [  0   0   0   0   0   1   0   0 204 201 205 208 207 205 211 205 210 210 209 195 221  96   0   3   0   0   0   0]\n",
      " [  0   0   0   0   0   1   0   0 202 201 205 209 207 205 213 206 210 209 210 194 217 105   0   2   0   0   0   0]\n",
      " [  0   0   0   0   0   1   0   0 204 204 205 208 207 205 215 207 210 208 211 193 213 115   0   2   0   0   0   0]\n",
      " [  0   0   0   0   0   0   0   0 204 207 207 208 206 206 215 210 210 207 212 195 210 118   0   2   0   0   0   0]\n",
      " [  0   0   0   0   0   1   0   0 198 208 208 208 204 207 212 212 210 207 211 196 207 121   0   1   0   0   0   0]\n",
      " [  0   0   0   0   0   1   0   0 198 210 207 208 206 209 213 212 211 207 210 197 207 124   0   1   0   0   0   0]\n",
      " [  0   0   0   0   0   0   0   0 172 210 203 201 199 204 207 205 204 201 205 197 206 127   0   0   0   0   0   0]\n",
      " [  0   0   0   0   0   0   0   0 188 221 214 234 236 238 244 244 244 240 243 214 224 162   0   2   0   0   0   0]\n",
      " [  0   0   0   0   0   1   0   0 139 146 130 135 135 137 125 124 125 121 119 114 130  76   0   0   0   0   0   0]]\n"
     ]
    }
   ],
   "source": [
    "import matplotlib.pyplot as plt\n",
    "\n",
    "fig, axes = plt.subplots(1, 2, figsize=(10, 5))\n",
    "axes[0].imshow(image_data)\n",
    "axes[0].set_title(\"image_data\")\n",
    "axes[0].axis(\"off\")\n",
    "\n",
    "axes[1].imshow(image_data_unchanged)\n",
    "axes[1].set_title(\"image_data_unchanged\")\n",
    "axes[1].axis(\"off\")\n",
    "\n",
    "plt.tight_layout()\n",
    "plt.show()\n",
    "print(image_data_unchanged)"
   ]
  },
  {
   "cell_type": "markdown",
   "metadata": {},
   "source": [
    "# Dataset Preparation"
   ]
  },
  {
   "cell_type": "code",
   "execution_count": 1,
   "metadata": {},
   "outputs": [
    {
     "name": "stdout",
     "output_type": "stream",
     "text": [
      "/home/keerthivasan_user/.local/share/uv/python/cpython-3.13.2-linux-x86_64-gnu/lib/python313.zip\n",
      "/home/keerthivasan_user/.local/share/uv/python/cpython-3.13.2-linux-x86_64-gnu/lib/python3.13\n",
      "/home/keerthivasan_user/.local/share/uv/python/cpython-3.13.2-linux-x86_64-gnu/lib/python3.13/lib-dynload\n",
      "\n",
      "/home/keerthivasan_user/Documents/git/netweaver/.venv/lib/python3.13/site-packages\n",
      "/home/keerthivasan_user/Documents/git/netweaver/src\n"
     ]
    }
   ],
   "source": [
    "import sys\n",
    "\n",
    "print(*sys.path, sep=\"\\n\")"
   ]
  },
  {
   "cell_type": "code",
   "execution_count": 2,
   "metadata": {},
   "outputs": [],
   "source": [
    "from netweaver import create_data_mnist, download_fashion_mnist_dataset"
   ]
  },
  {
   "cell_type": "markdown",
   "metadata": {},
   "source": [
    "## Download"
   ]
  },
  {
   "cell_type": "code",
   "execution_count": 3,
   "metadata": {},
   "outputs": [
    {
     "name": "stdout",
     "output_type": "stream",
     "text": [
      "Fashion_mnish_dataset is already available in /home/keerthivasan_user/Documents/git/netweaver/datasets/fashion_mnist_images\n"
     ]
    }
   ],
   "source": [
    "project_root_path = \"/home/keerthivasan_user/Documents/git/netweaver\"\n",
    "download_fashion_mnist_dataset(project_root_path)"
   ]
  },
  {
   "cell_type": "markdown",
   "metadata": {},
   "source": [
    "## Load into memory"
   ]
  },
  {
   "cell_type": "code",
   "execution_count": 4,
   "metadata": {},
   "outputs": [
    {
     "name": "stdout",
     "output_type": "stream",
     "text": [
      "X shape:      (60000, 28, 28) dtype(<class 'numpy.uint8'>) mem usage: 0.044Gb used, y shape:      (60000,) dtype(<class 'numpy.uint8'>) mem usage: 0.000Gb used\n",
      "X_test shape: (10000, 28, 28) dtype(<class 'numpy.uint8'>) mem usage: 0.007Gb used, y_test shape: (10000,) dtype(<class 'numpy.uint8'>) mem usage: 0.000Gb used\n"
     ]
    }
   ],
   "source": [
    "dataset_path = (\n",
    "    \"/home/keerthivasan_user/Documents/git/netweaver/datasets/fashion_mnist_images\"\n",
    ")\n",
    "X, y, X_test, y_test = create_data_mnist(dataset_path)"
   ]
  },
  {
   "cell_type": "markdown",
   "metadata": {},
   "source": [
    "# Data Preprocessing"
   ]
  },
  {
   "cell_type": "code",
   "execution_count": 5,
   "metadata": {},
   "outputs": [],
   "source": [
    "def min_max_values(X, X_test):\n",
    "    X_min, X_max = X.min(), X.max()\n",
    "    X_test_min, X_test_max = X_test.min(), X_test.max()\n",
    "    print(f\"X's      min: {X_min}, max:{X_max}\")\n",
    "    print(f\"X_test's min: {X_test_min}, max:{X_test_max}\")"
   ]
  },
  {
   "cell_type": "markdown",
   "metadata": {},
   "source": [
    "## Scaling\n"
   ]
  },
  {
   "cell_type": "code",
   "execution_count": 6,
   "metadata": {},
   "outputs": [],
   "source": [
    "import numpy as np\n",
    "\n",
    "\n",
    "def scale_mopo(arr: np.ndarray, max_half: float):\n",
    "    return (arr.astype(np.float32) - max_half) / max_half\n",
    "\n",
    "\n",
    "def scale_zo(arr: np.ndarray, max_value):\n",
    "    return arr.astype(np.float32) / max_value"
   ]
  },
  {
   "cell_type": "code",
   "execution_count": 7,
   "metadata": {},
   "outputs": [
    {
     "name": "stdout",
     "output_type": "stream",
     "text": [
      "X's      min: 0, max:255\n",
      "X_test's min: 0, max:255\n"
     ]
    }
   ],
   "source": [
    "min_max_values(X, X_test)"
   ]
  },
  {
   "cell_type": "code",
   "execution_count": 8,
   "metadata": {},
   "outputs": [],
   "source": [
    "Xtrain_max_half = X.max() / 2\n",
    "X_strain = scale_mopo(X, Xtrain_max_half)\n",
    "X_stest = scale_mopo(X_test, Xtrain_max_half)  # uses the same max_half value"
   ]
  },
  {
   "cell_type": "code",
   "execution_count": 9,
   "metadata": {},
   "outputs": [
    {
     "name": "stdout",
     "output_type": "stream",
     "text": [
      "X's      min: -1.0, max:1.0\n",
      "X_test's min: -1.0, max:1.0\n"
     ]
    }
   ],
   "source": [
    "min_max_values(X_strain, X_stest)"
   ]
  },
  {
   "cell_type": "markdown",
   "metadata": {},
   "source": [
    "## Flattening"
   ]
  },
  {
   "cell_type": "code",
   "execution_count": 10,
   "metadata": {},
   "outputs": [
    {
     "name": "stdout",
     "output_type": "stream",
     "text": [
      "(60000, 784)\n",
      "(10000, 784)\n"
     ]
    }
   ],
   "source": [
    "X_sftrain = X_strain.reshape(X_strain.shape[0], X_strain.shape[1] * X_strain.shape[2])\n",
    "X_sftest = X_stest.reshape(X_stest.shape[0], X_stest.shape[1] * X_stest.shape[2])\n",
    "print(X_sftrain.shape)\n",
    "print(X_sftest.shape)"
   ]
  },
  {
   "cell_type": "markdown",
   "metadata": {},
   "source": [
    "## shuffle"
   ]
  },
  {
   "cell_type": "code",
   "execution_count": 11,
   "metadata": {},
   "outputs": [
    {
     "name": "stdout",
     "output_type": "stream",
     "text": [
      "[4 4 5 9 5 3 1 3 0 9]\n"
     ]
    }
   ],
   "source": [
    "import numpy as np\n",
    "\n",
    "keys = np.array(range(X_sftrain.shape[0]))\n",
    "np.random.shuffle(keys)\n",
    "X_ssftrain = X_sftrain[keys]\n",
    "y = y[keys]\n",
    "print(y[:10])"
   ]
  },
  {
   "cell_type": "markdown",
   "metadata": {},
   "source": [
    "# Model Architecture and Creation"
   ]
  },
  {
   "cell_type": "code",
   "execution_count": 18,
   "metadata": {},
   "outputs": [],
   "source": [
    "from netweaver import (\n",
    "    AccuracyCategorical,\n",
    "    ActivationSoftmax,\n",
    "    LayerDense,\n",
    "    LossCategoricalCrossentropy,\n",
    "    Model,\n",
    "    OptimizerAdam,\n",
    ")"
   ]
  },
  {
   "cell_type": "code",
   "execution_count": 19,
   "metadata": {},
   "outputs": [],
   "source": [
    "model = Model()"
   ]
  },
  {
   "cell_type": "code",
   "execution_count": 20,
   "metadata": {},
   "outputs": [],
   "source": [
    "model.add(LayerDense(n_inputs=X_ssftrain.shape[1], n_neurons=20))\n",
    "model.add(ActivationSoftmax())\n",
    "model.add(LayerDense(n_inputs=20, n_neurons=20))\n",
    "model.add(ActivationSoftmax())\n",
    "model.add(LayerDense(n_inputs=20, n_neurons=10))\n",
    "model.add(ActivationSoftmax())"
   ]
  },
  {
   "cell_type": "code",
   "execution_count": 21,
   "metadata": {},
   "outputs": [],
   "source": [
    "model.set(\n",
    "    loss=LossCategoricalCrossentropy(),\n",
    "    optimizer=OptimizerAdam(learning_rate=0.01, decay=0.001),\n",
    "    accuracy=AccuracyCategorical(),\n",
    ")"
   ]
  },
  {
   "cell_type": "code",
   "execution_count": 22,
   "metadata": {},
   "outputs": [],
   "source": [
    "model.finalize()"
   ]
  },
  {
   "cell_type": "code",
   "execution_count": 24,
   "metadata": {},
   "outputs": [
    {
     "data": {
      "application/vnd.jupyter.widget-view+json": {
       "model_id": "a77061175f764316bbcbbba1cd5de003",
       "version_major": 2,
       "version_minor": 0
      },
      "text/plain": [
       "Traning...:   0%|          | 0/10 [00:00<?, ?it/s]"
      ]
     },
     "metadata": {},
     "output_type": "display_data"
    },
    {
     "data": {
      "application/vnd.jupyter.widget-view+json": {
       "model_id": "22cd683142644d56a8fcc55e6250d4e0",
       "version_major": 2,
       "version_minor": 0
      },
      "text/plain": [
       "Epoch 1:   0%|          | 0/1875 [00:00<?, ?it/s]"
      ]
     },
     "metadata": {},
     "output_type": "display_data"
    },
    {
     "name": "stdout",
     "output_type": "stream",
     "text": [
      "step: 0         acc: 0.312     loss: 1.213     data_loss: 1.213     reg_loss: 0.000     lr: 0.0005063 \n",
      "step: 100       acc: 0.500     loss: 1.068     data_loss: 1.068     reg_loss: 0.000     lr: 0.0005038 \n",
      "step: 200       acc: 0.500     loss: 1.260     data_loss: 1.260     reg_loss: 0.000     lr: 0.0005013 \n",
      "step: 300       acc: 0.531     loss: 1.143     data_loss: 1.143     reg_loss: 0.000     lr: 0.0004988 \n",
      "step: 400       acc: 0.344     loss: 1.213     data_loss: 1.213     reg_loss: 0.000     lr: 0.0004963 \n",
      "step: 500       acc: 0.438     loss: 1.214     data_loss: 1.214     reg_loss: 0.000     lr: 0.0004938 \n",
      "step: 600       acc: 0.469     loss: 1.143     data_loss: 1.143     reg_loss: 0.000     lr: 0.0004914 \n",
      "step: 700       acc: 0.469     loss: 1.367     data_loss: 1.367     reg_loss: 0.000     lr: 0.0004890 \n",
      "step: 800       acc: 0.344     loss: 1.086     data_loss: 1.086     reg_loss: 0.000     lr: 0.0004866 \n",
      "step: 900       acc: 0.125     loss: 1.447     data_loss: 1.447     reg_loss: 0.000     lr: 0.0004843 \n",
      "step: 1000      acc: 0.500     loss: 1.112     data_loss: 1.112     reg_loss: 0.000     lr: 0.0004819 \n",
      "step: 1100      acc: 0.312     loss: 1.042     data_loss: 1.042     reg_loss: 0.000     lr: 0.0004796 \n",
      "step: 1200      acc: 0.375     loss: 1.080     data_loss: 1.080     reg_loss: 0.000     lr: 0.0004773 \n",
      "step: 1300      acc: 0.438     loss: 1.126     data_loss: 1.126     reg_loss: 0.000     lr: 0.0004751 \n",
      "step: 1400      acc: 0.312     loss: 1.218     data_loss: 1.218     reg_loss: 0.000     lr: 0.0004728 \n",
      "step: 1500      acc: 0.438     loss: 1.129     data_loss: 1.129     reg_loss: 0.000     lr: 0.0004706 \n",
      "step: 1600      acc: 0.438     loss: 1.155     data_loss: 1.155     reg_loss: 0.000     lr: 0.0004684 \n",
      "step: 1700      acc: 0.594     loss: 0.898     data_loss: 0.898     reg_loss: 0.000     lr: 0.0004662 \n",
      "step: 1800      acc: 0.344     loss: 1.110     data_loss: 1.110     reg_loss: 0.000     lr: 0.0004640 \n",
      "step: 1874      acc: 0.375     loss: 1.196     data_loss: 1.196     reg_loss: 0.000     lr: 0.0004624 \n",
      "\n",
      "Epoch 1.000000   summary:\n",
      "acc: 0.391     loss: 1.184     data_loss: 1.184     reg_loss: 0.000     lr: 0.0004624 \n",
      "\n"
     ]
    },
    {
     "data": {
      "application/vnd.jupyter.widget-view+json": {
       "model_id": "f8a74ae91c86490498e6efcd59cdfcdd",
       "version_major": 2,
       "version_minor": 0
      },
      "text/plain": [
       "Epoch 2:   0%|          | 0/1875 [00:00<?, ?it/s]"
      ]
     },
     "metadata": {},
     "output_type": "display_data"
    },
    {
     "name": "stdout",
     "output_type": "stream",
     "text": [
      "step: 0         acc: 0.312     loss: 1.157     data_loss: 1.157     reg_loss: 0.000     lr: 0.0004624 \n",
      "step: 100       acc: 0.500     loss: 1.068     data_loss: 1.068     reg_loss: 0.000     lr: 0.0004603 \n",
      "step: 200       acc: 0.500     loss: 1.264     data_loss: 1.264     reg_loss: 0.000     lr: 0.0004582 \n",
      "step: 300       acc: 0.531     loss: 1.142     data_loss: 1.142     reg_loss: 0.000     lr: 0.0004561 \n",
      "step: 400       acc: 0.375     loss: 1.208     data_loss: 1.208     reg_loss: 0.000     lr: 0.0004540 \n",
      "step: 500       acc: 0.438     loss: 1.214     data_loss: 1.214     reg_loss: 0.000     lr: 0.0004520 \n",
      "step: 600       acc: 0.469     loss: 1.084     data_loss: 1.084     reg_loss: 0.000     lr: 0.0004499 \n",
      "step: 700       acc: 0.469     loss: 1.372     data_loss: 1.372     reg_loss: 0.000     lr: 0.0004479 \n",
      "step: 800       acc: 0.344     loss: 1.085     data_loss: 1.085     reg_loss: 0.000     lr: 0.0004459 \n",
      "step: 900       acc: 0.125     loss: 1.449     data_loss: 1.449     reg_loss: 0.000     lr: 0.0004440 \n",
      "step: 1000      acc: 0.500     loss: 1.106     data_loss: 1.106     reg_loss: 0.000     lr: 0.0004420 \n",
      "step: 1100      acc: 0.312     loss: 1.040     data_loss: 1.040     reg_loss: 0.000     lr: 0.0004400 \n",
      "step: 1200      acc: 0.375     loss: 1.079     data_loss: 1.079     reg_loss: 0.000     lr: 0.0004381 \n",
      "step: 1300      acc: 0.438     loss: 1.125     data_loss: 1.125     reg_loss: 0.000     lr: 0.0004362 \n",
      "step: 1400      acc: 0.312     loss: 1.217     data_loss: 1.217     reg_loss: 0.000     lr: 0.0004343 \n",
      "step: 1500      acc: 0.438     loss: 1.129     data_loss: 1.129     reg_loss: 0.000     lr: 0.0004324 \n",
      "step: 1600      acc: 0.469     loss: 1.147     data_loss: 1.147     reg_loss: 0.000     lr: 0.0004306 \n",
      "step: 1700      acc: 0.531     loss: 0.899     data_loss: 0.899     reg_loss: 0.000     lr: 0.0004287 \n",
      "step: 1800      acc: 0.344     loss: 1.110     data_loss: 1.110     reg_loss: 0.000     lr: 0.0004269 \n",
      "step: 1874      acc: 0.375     loss: 1.195     data_loss: 1.195     reg_loss: 0.000     lr: 0.0004256 \n",
      "\n",
      "Epoch 2.000000   summary:\n",
      "acc: 0.392     loss: 1.182     data_loss: 1.182     reg_loss: 0.000     lr: 0.0004256 \n",
      "\n"
     ]
    },
    {
     "data": {
      "application/vnd.jupyter.widget-view+json": {
       "model_id": "0d7414fe9429492e81c9366990ec1b5f",
       "version_major": 2,
       "version_minor": 0
      },
      "text/plain": [
       "Epoch 3:   0%|          | 0/1875 [00:00<?, ?it/s]"
      ]
     },
     "metadata": {},
     "output_type": "display_data"
    },
    {
     "name": "stdout",
     "output_type": "stream",
     "text": [
      "step: 0         acc: 0.312     loss: 1.168     data_loss: 1.168     reg_loss: 0.000     lr: 0.0004255 \n",
      "step: 100       acc: 0.500     loss: 1.069     data_loss: 1.069     reg_loss: 0.000     lr: 0.0004237 \n",
      "step: 200       acc: 0.531     loss: 1.266     data_loss: 1.266     reg_loss: 0.000     lr: 0.0004219 \n",
      "step: 300       acc: 0.531     loss: 1.141     data_loss: 1.141     reg_loss: 0.000     lr: 0.0004202 \n",
      "step: 400       acc: 0.344     loss: 1.212     data_loss: 1.212     reg_loss: 0.000     lr: 0.0004184 \n",
      "step: 500       acc: 0.438     loss: 1.214     data_loss: 1.214     reg_loss: 0.000     lr: 0.0004167 \n",
      "step: 600       acc: 0.500     loss: 1.107     data_loss: 1.107     reg_loss: 0.000     lr: 0.0004149 \n",
      "step: 700       acc: 0.469     loss: 1.371     data_loss: 1.371     reg_loss: 0.000     lr: 0.0004132 \n",
      "step: 800       acc: 0.344     loss: 1.084     data_loss: 1.084     reg_loss: 0.000     lr: 0.0004115 \n",
      "step: 900       acc: 0.125     loss: 1.448     data_loss: 1.448     reg_loss: 0.000     lr: 0.0004098 \n",
      "step: 1000      acc: 0.500     loss: 1.104     data_loss: 1.104     reg_loss: 0.000     lr: 0.0004082 \n",
      "step: 1100      acc: 0.312     loss: 1.040     data_loss: 1.040     reg_loss: 0.000     lr: 0.0004065 \n",
      "step: 1200      acc: 0.375     loss: 1.078     data_loss: 1.078     reg_loss: 0.000     lr: 0.0004049 \n",
      "step: 1300      acc: 0.438     loss: 1.125     data_loss: 1.125     reg_loss: 0.000     lr: 0.0004032 \n",
      "step: 1400      acc: 0.406     loss: 1.217     data_loss: 1.217     reg_loss: 0.000     lr: 0.0004016 \n",
      "step: 1500      acc: 0.406     loss: 1.129     data_loss: 1.129     reg_loss: 0.000     lr: 0.0004000 \n",
      "step: 1600      acc: 0.469     loss: 1.146     data_loss: 1.146     reg_loss: 0.000     lr: 0.0003984 \n",
      "step: 1700      acc: 0.562     loss: 0.896     data_loss: 0.896     reg_loss: 0.000     lr: 0.0003968 \n",
      "step: 1800      acc: 0.344     loss: 1.109     data_loss: 1.109     reg_loss: 0.000     lr: 0.0003953 \n",
      "step: 1874      acc: 0.375     loss: 1.195     data_loss: 1.195     reg_loss: 0.000     lr: 0.0003941 \n",
      "\n",
      "Epoch 3.000000   summary:\n",
      "acc: 0.392     loss: 1.181     data_loss: 1.181     reg_loss: 0.000     lr: 0.0003941 \n",
      "\n"
     ]
    },
    {
     "data": {
      "application/vnd.jupyter.widget-view+json": {
       "model_id": "16c75d0fe25e4c6e8fe72f5ee1d5eec2",
       "version_major": 2,
       "version_minor": 0
      },
      "text/plain": [
       "Epoch 4:   0%|          | 0/1875 [00:00<?, ?it/s]"
      ]
     },
     "metadata": {},
     "output_type": "display_data"
    },
    {
     "name": "stdout",
     "output_type": "stream",
     "text": [
      "step: 0         acc: 0.312     loss: 1.214     data_loss: 1.214     reg_loss: 0.000     lr: 0.0003941 \n",
      "step: 100       acc: 0.500     loss: 1.068     data_loss: 1.068     reg_loss: 0.000     lr: 0.0003925 \n",
      "step: 200       acc: 0.531     loss: 1.266     data_loss: 1.266     reg_loss: 0.000     lr: 0.0003910 \n",
      "step: 300       acc: 0.531     loss: 1.140     data_loss: 1.140     reg_loss: 0.000     lr: 0.0003895 \n",
      "step: 400       acc: 0.344     loss: 1.212     data_loss: 1.212     reg_loss: 0.000     lr: 0.0003880 \n",
      "step: 500       acc: 0.312     loss: 1.227     data_loss: 1.227     reg_loss: 0.000     lr: 0.0003865 \n",
      "step: 600       acc: 0.469     loss: 1.071     data_loss: 1.071     reg_loss: 0.000     lr: 0.0003850 \n",
      "step: 700       acc: 0.438     loss: 1.298     data_loss: 1.298     reg_loss: 0.000     lr: 0.0003835 \n",
      "step: 800       acc: 0.344     loss: 1.084     data_loss: 1.084     reg_loss: 0.000     lr: 0.0003820 \n",
      "step: 900       acc: 0.125     loss: 1.444     data_loss: 1.444     reg_loss: 0.000     lr: 0.0003806 \n",
      "step: 1000      acc: 0.500     loss: 1.099     data_loss: 1.099     reg_loss: 0.000     lr: 0.0003791 \n",
      "step: 1100      acc: 0.312     loss: 1.039     data_loss: 1.039     reg_loss: 0.000     lr: 0.0003777 \n",
      "step: 1200      acc: 0.375     loss: 1.077     data_loss: 1.077     reg_loss: 0.000     lr: 0.0003763 \n",
      "step: 1300      acc: 0.438     loss: 1.125     data_loss: 1.125     reg_loss: 0.000     lr: 0.0003749 \n",
      "step: 1400      acc: 0.406     loss: 1.217     data_loss: 1.217     reg_loss: 0.000     lr: 0.0003735 \n",
      "step: 1500      acc: 0.406     loss: 1.129     data_loss: 1.129     reg_loss: 0.000     lr: 0.0003721 \n",
      "step: 1600      acc: 0.438     loss: 1.149     data_loss: 1.149     reg_loss: 0.000     lr: 0.0003707 \n",
      "step: 1700      acc: 0.531     loss: 0.898     data_loss: 0.898     reg_loss: 0.000     lr: 0.0003693 \n",
      "step: 1800      acc: 0.344     loss: 1.108     data_loss: 1.108     reg_loss: 0.000     lr: 0.0003680 \n",
      "step: 1874      acc: 0.375     loss: 1.194     data_loss: 1.194     reg_loss: 0.000     lr: 0.0003670 \n",
      "\n",
      "Epoch 4.000000   summary:\n",
      "acc: 0.392     loss: 1.179     data_loss: 1.179     reg_loss: 0.000     lr: 0.0003670 \n",
      "\n"
     ]
    },
    {
     "data": {
      "application/vnd.jupyter.widget-view+json": {
       "model_id": "63f91cef1b384702875cf067f6a3f0e8",
       "version_major": 2,
       "version_minor": 0
      },
      "text/plain": [
       "Epoch 5:   0%|          | 0/1875 [00:00<?, ?it/s]"
      ]
     },
     "metadata": {},
     "output_type": "display_data"
    },
    {
     "name": "stdout",
     "output_type": "stream",
     "text": [
      "step: 0         acc: 0.312     loss: 1.157     data_loss: 1.157     reg_loss: 0.000     lr: 0.0003670 \n",
      "step: 100       acc: 0.500     loss: 1.068     data_loss: 1.068     reg_loss: 0.000     lr: 0.0003656 \n",
      "step: 200       acc: 0.531     loss: 1.266     data_loss: 1.266     reg_loss: 0.000     lr: 0.0003643 \n",
      "step: 300       acc: 0.531     loss: 1.141     data_loss: 1.141     reg_loss: 0.000     lr: 0.0003630 \n",
      "step: 400       acc: 0.344     loss: 1.211     data_loss: 1.211     reg_loss: 0.000     lr: 0.0003617 \n",
      "step: 500       acc: 0.312     loss: 1.216     data_loss: 1.216     reg_loss: 0.000     lr: 0.0003604 \n",
      "step: 600       acc: 0.500     loss: 1.068     data_loss: 1.068     reg_loss: 0.000     lr: 0.0003591 \n",
      "step: 700       acc: 0.438     loss: 1.213     data_loss: 1.213     reg_loss: 0.000     lr: 0.0003578 \n",
      "step: 800       acc: 0.344     loss: 1.083     data_loss: 1.083     reg_loss: 0.000     lr: 0.0003565 \n",
      "step: 900       acc: 0.125     loss: 1.410     data_loss: 1.410     reg_loss: 0.000     lr: 0.0003552 \n",
      "step: 1000      acc: 0.500     loss: 1.082     data_loss: 1.082     reg_loss: 0.000     lr: 0.0003540 \n",
      "step: 1100      acc: 0.312     loss: 1.039     data_loss: 1.039     reg_loss: 0.000     lr: 0.0003527 \n",
      "step: 1200      acc: 0.375     loss: 1.078     data_loss: 1.078     reg_loss: 0.000     lr: 0.0003515 \n",
      "step: 1300      acc: 0.438     loss: 1.123     data_loss: 1.123     reg_loss: 0.000     lr: 0.0003503 \n",
      "step: 1400      acc: 0.406     loss: 1.221     data_loss: 1.221     reg_loss: 0.000     lr: 0.0003490 \n",
      "step: 1500      acc: 0.438     loss: 1.125     data_loss: 1.125     reg_loss: 0.000     lr: 0.0003478 \n",
      "step: 1600      acc: 0.469     loss: 1.144     data_loss: 1.144     reg_loss: 0.000     lr: 0.0003466 \n",
      "step: 1700      acc: 0.531     loss: 0.898     data_loss: 0.898     reg_loss: 0.000     lr: 0.0003454 \n",
      "step: 1800      acc: 0.344     loss: 1.108     data_loss: 1.108     reg_loss: 0.000     lr: 0.0003442 \n",
      "step: 1874      acc: 0.375     loss: 1.196     data_loss: 1.196     reg_loss: 0.000     lr: 0.0003434 \n",
      "\n",
      "Epoch 5.000000   summary:\n",
      "acc: 0.392     loss: 1.179     data_loss: 1.179     reg_loss: 0.000     lr: 0.0003434 \n",
      "\n"
     ]
    },
    {
     "data": {
      "application/vnd.jupyter.widget-view+json": {
       "model_id": "79fbc908070b4152bff31324aaf67150",
       "version_major": 2,
       "version_minor": 0
      },
      "text/plain": [
       "Epoch 6:   0%|          | 0/1875 [00:00<?, ?it/s]"
      ]
     },
     "metadata": {},
     "output_type": "display_data"
    },
    {
     "name": "stdout",
     "output_type": "stream",
     "text": [
      "step: 0         acc: 0.312     loss: 1.224     data_loss: 1.224     reg_loss: 0.000     lr: 0.0003433 \n",
      "step: 100       acc: 0.500     loss: 1.067     data_loss: 1.067     reg_loss: 0.000     lr: 0.0003422 \n",
      "step: 200       acc: 0.531     loss: 1.267     data_loss: 1.267     reg_loss: 0.000     lr: 0.0003410 \n",
      "step: 300       acc: 0.531     loss: 1.141     data_loss: 1.141     reg_loss: 0.000     lr: 0.0003398 \n",
      "step: 400       acc: 0.344     loss: 1.211     data_loss: 1.211     reg_loss: 0.000     lr: 0.0003387 \n",
      "step: 500       acc: 0.312     loss: 1.216     data_loss: 1.216     reg_loss: 0.000     lr: 0.0003376 \n",
      "step: 600       acc: 0.500     loss: 1.068     data_loss: 1.068     reg_loss: 0.000     lr: 0.0003364 \n",
      "step: 700       acc: 0.469     loss: 1.213     data_loss: 1.213     reg_loss: 0.000     lr: 0.0003353 \n",
      "step: 800       acc: 0.344     loss: 1.083     data_loss: 1.083     reg_loss: 0.000     lr: 0.0003342 \n",
      "step: 900       acc: 0.125     loss: 1.408     data_loss: 1.408     reg_loss: 0.000     lr: 0.0003331 \n",
      "step: 1000      acc: 0.500     loss: 1.098     data_loss: 1.098     reg_loss: 0.000     lr: 0.0003320 \n",
      "step: 1100      acc: 0.312     loss: 1.038     data_loss: 1.038     reg_loss: 0.000     lr: 0.0003309 \n",
      "step: 1200      acc: 0.375     loss: 1.078     data_loss: 1.078     reg_loss: 0.000     lr: 0.0003298 \n",
      "step: 1300      acc: 0.469     loss: 1.119     data_loss: 1.119     reg_loss: 0.000     lr: 0.0003287 \n",
      "step: 1400      acc: 0.406     loss: 1.219     data_loss: 1.219     reg_loss: 0.000     lr: 0.0003276 \n",
      "step: 1500      acc: 0.438     loss: 1.126     data_loss: 1.126     reg_loss: 0.000     lr: 0.0003265 \n",
      "step: 1600      acc: 0.469     loss: 1.145     data_loss: 1.145     reg_loss: 0.000     lr: 0.0003255 \n",
      "step: 1700      acc: 0.531     loss: 0.898     data_loss: 0.898     reg_loss: 0.000     lr: 0.0003244 \n",
      "step: 1800      acc: 0.344     loss: 1.108     data_loss: 1.108     reg_loss: 0.000     lr: 0.0003234 \n",
      "step: 1874      acc: 0.375     loss: 1.197     data_loss: 1.197     reg_loss: 0.000     lr: 0.0003226 \n",
      "\n",
      "Epoch 6.000000   summary:\n",
      "acc: 0.392     loss: 1.177     data_loss: 1.177     reg_loss: 0.000     lr: 0.0003226 \n",
      "\n"
     ]
    },
    {
     "data": {
      "application/vnd.jupyter.widget-view+json": {
       "model_id": "1029de0c4bbf43f9a7fedb79b3a4e26c",
       "version_major": 2,
       "version_minor": 0
      },
      "text/plain": [
       "Epoch 7:   0%|          | 0/1875 [00:00<?, ?it/s]"
      ]
     },
     "metadata": {},
     "output_type": "display_data"
    },
    {
     "name": "stdout",
     "output_type": "stream",
     "text": [
      "step: 0         acc: 0.312     loss: 1.237     data_loss: 1.237     reg_loss: 0.000     lr: 0.0003226 \n",
      "step: 100       acc: 0.500     loss: 1.067     data_loss: 1.067     reg_loss: 0.000     lr: 0.0003215 \n",
      "step: 200       acc: 0.531     loss: 1.266     data_loss: 1.266     reg_loss: 0.000     lr: 0.0003205 \n",
      "step: 300       acc: 0.531     loss: 1.141     data_loss: 1.141     reg_loss: 0.000     lr: 0.0003195 \n",
      "step: 400       acc: 0.375     loss: 1.207     data_loss: 1.207     reg_loss: 0.000     lr: 0.0003185 \n",
      "step: 500       acc: 0.312     loss: 1.221     data_loss: 1.221     reg_loss: 0.000     lr: 0.0003175 \n",
      "step: 600       acc: 0.500     loss: 1.067     data_loss: 1.067     reg_loss: 0.000     lr: 0.0003165 \n",
      "step: 700       acc: 0.438     loss: 1.213     data_loss: 1.213     reg_loss: 0.000     lr: 0.0003155 \n",
      "step: 800       acc: 0.344     loss: 1.082     data_loss: 1.082     reg_loss: 0.000     lr: 0.0003145 \n",
      "step: 900       acc: 0.125     loss: 1.452     data_loss: 1.452     reg_loss: 0.000     lr: 0.0003135 \n",
      "step: 1000      acc: 0.500     loss: 1.090     data_loss: 1.090     reg_loss: 0.000     lr: 0.0003125 \n",
      "step: 1100      acc: 0.312     loss: 1.038     data_loss: 1.038     reg_loss: 0.000     lr: 0.0003115 \n",
      "step: 1200      acc: 0.375     loss: 1.077     data_loss: 1.077     reg_loss: 0.000     lr: 0.0003106 \n",
      "step: 1300      acc: 0.469     loss: 1.119     data_loss: 1.119     reg_loss: 0.000     lr: 0.0003096 \n",
      "step: 1400      acc: 0.406     loss: 1.219     data_loss: 1.219     reg_loss: 0.000     lr: 0.0003086 \n",
      "step: 1500      acc: 0.438     loss: 1.124     data_loss: 1.124     reg_loss: 0.000     lr: 0.0003077 \n",
      "step: 1600      acc: 0.469     loss: 1.148     data_loss: 1.148     reg_loss: 0.000     lr: 0.0003067 \n",
      "step: 1700      acc: 0.531     loss: 0.898     data_loss: 0.898     reg_loss: 0.000     lr: 0.0003058 \n",
      "step: 1800      acc: 0.344     loss: 1.107     data_loss: 1.107     reg_loss: 0.000     lr: 0.0003049 \n",
      "step: 1874      acc: 0.375     loss: 1.195     data_loss: 1.195     reg_loss: 0.000     lr: 0.0003042 \n",
      "\n",
      "Epoch 7.000000   summary:\n",
      "acc: 0.393     loss: 1.176     data_loss: 1.176     reg_loss: 0.000     lr: 0.0003042 \n",
      "\n"
     ]
    },
    {
     "data": {
      "application/vnd.jupyter.widget-view+json": {
       "model_id": "cc9dea766e2b46048ffddd47c0093390",
       "version_major": 2,
       "version_minor": 0
      },
      "text/plain": [
       "Epoch 8:   0%|          | 0/1875 [00:00<?, ?it/s]"
      ]
     },
     "metadata": {},
     "output_type": "display_data"
    },
    {
     "name": "stdout",
     "output_type": "stream",
     "text": [
      "step: 0         acc: 0.312     loss: 1.224     data_loss: 1.224     reg_loss: 0.000     lr: 0.0003042 \n",
      "step: 100       acc: 0.500     loss: 1.067     data_loss: 1.067     reg_loss: 0.000     lr: 0.0003033 \n",
      "step: 200       acc: 0.531     loss: 1.269     data_loss: 1.269     reg_loss: 0.000     lr: 0.0003023 \n",
      "step: 300       acc: 0.531     loss: 1.139     data_loss: 1.139     reg_loss: 0.000     lr: 0.0003014 \n",
      "step: 400       acc: 0.344     loss: 1.209     data_loss: 1.209     reg_loss: 0.000     lr: 0.0003005 \n",
      "step: 500       acc: 0.312     loss: 1.215     data_loss: 1.215     reg_loss: 0.000     lr: 0.0002996 \n",
      "step: 600       acc: 0.500     loss: 1.066     data_loss: 1.066     reg_loss: 0.000     lr: 0.0002987 \n",
      "step: 700       acc: 0.438     loss: 1.213     data_loss: 1.213     reg_loss: 0.000     lr: 0.0002978 \n",
      "step: 800       acc: 0.344     loss: 1.081     data_loss: 1.081     reg_loss: 0.000     lr: 0.0002970 \n",
      "step: 900       acc: 0.125     loss: 1.456     data_loss: 1.456     reg_loss: 0.000     lr: 0.0002961 \n",
      "step: 1000      acc: 0.500     loss: 1.096     data_loss: 1.096     reg_loss: 0.000     lr: 0.0002952 \n",
      "step: 1100      acc: 0.312     loss: 1.037     data_loss: 1.037     reg_loss: 0.000     lr: 0.0002943 \n",
      "step: 1200      acc: 0.375     loss: 1.076     data_loss: 1.076     reg_loss: 0.000     lr: 0.0002935 \n",
      "step: 1300      acc: 0.469     loss: 1.123     data_loss: 1.123     reg_loss: 0.000     lr: 0.0002926 \n",
      "step: 1400      acc: 0.375     loss: 1.241     data_loss: 1.241     reg_loss: 0.000     lr: 0.0002918 \n",
      "step: 1500      acc: 0.438     loss: 1.123     data_loss: 1.123     reg_loss: 0.000     lr: 0.0002909 \n",
      "step: 1600      acc: 0.469     loss: 1.145     data_loss: 1.145     reg_loss: 0.000     lr: 0.0002901 \n",
      "step: 1700      acc: 0.531     loss: 0.898     data_loss: 0.898     reg_loss: 0.000     lr: 0.0002892 \n",
      "step: 1800      acc: 0.344     loss: 1.106     data_loss: 1.106     reg_loss: 0.000     lr: 0.0002884 \n",
      "step: 1874      acc: 0.375     loss: 1.195     data_loss: 1.195     reg_loss: 0.000     lr: 0.0002878 \n",
      "\n",
      "Epoch 8.000000   summary:\n",
      "acc: 0.393     loss: 1.175     data_loss: 1.175     reg_loss: 0.000     lr: 0.0002878 \n",
      "\n"
     ]
    },
    {
     "data": {
      "application/vnd.jupyter.widget-view+json": {
       "model_id": "5b46ad50e3da47ccb5ba5cf83ec9c8ec",
       "version_major": 2,
       "version_minor": 0
      },
      "text/plain": [
       "Epoch 9:   0%|          | 0/1875 [00:00<?, ?it/s]"
      ]
     },
     "metadata": {},
     "output_type": "display_data"
    },
    {
     "name": "stdout",
     "output_type": "stream",
     "text": [
      "step: 0         acc: 0.312     loss: 1.227     data_loss: 1.227     reg_loss: 0.000     lr: 0.0002878 \n",
      "step: 100       acc: 0.500     loss: 1.067     data_loss: 1.067     reg_loss: 0.000     lr: 0.0002869 \n",
      "step: 200       acc: 0.531     loss: 1.270     data_loss: 1.270     reg_loss: 0.000     lr: 0.0002861 \n",
      "step: 300       acc: 0.531     loss: 1.138     data_loss: 1.138     reg_loss: 0.000     lr: 0.0002853 \n",
      "step: 400       acc: 0.344     loss: 1.210     data_loss: 1.210     reg_loss: 0.000     lr: 0.0002845 \n",
      "step: 500       acc: 0.312     loss: 1.214     data_loss: 1.214     reg_loss: 0.000     lr: 0.0002837 \n",
      "step: 600       acc: 0.500     loss: 1.065     data_loss: 1.065     reg_loss: 0.000     lr: 0.0002829 \n",
      "step: 700       acc: 0.438     loss: 1.232     data_loss: 1.232     reg_loss: 0.000     lr: 0.0002821 \n",
      "step: 800       acc: 0.344     loss: 1.081     data_loss: 1.081     reg_loss: 0.000     lr: 0.0002813 \n",
      "step: 900       acc: 0.125     loss: 1.449     data_loss: 1.449     reg_loss: 0.000     lr: 0.0002805 \n",
      "step: 1000      acc: 0.500     loss: 1.091     data_loss: 1.091     reg_loss: 0.000     lr: 0.0002797 \n",
      "step: 1100      acc: 0.312     loss: 1.037     data_loss: 1.037     reg_loss: 0.000     lr: 0.0002789 \n",
      "step: 1200      acc: 0.375     loss: 1.076     data_loss: 1.076     reg_loss: 0.000     lr: 0.0002782 \n",
      "step: 1300      acc: 0.469     loss: 1.118     data_loss: 1.118     reg_loss: 0.000     lr: 0.0002774 \n",
      "step: 1400      acc: 0.375     loss: 1.228     data_loss: 1.228     reg_loss: 0.000     lr: 0.0002766 \n",
      "step: 1500      acc: 0.438     loss: 1.122     data_loss: 1.122     reg_loss: 0.000     lr: 0.0002759 \n",
      "step: 1600      acc: 0.469     loss: 1.144     data_loss: 1.144     reg_loss: 0.000     lr: 0.0002751 \n",
      "step: 1700      acc: 0.531     loss: 0.898     data_loss: 0.898     reg_loss: 0.000     lr: 0.0002743 \n",
      "step: 1800      acc: 0.344     loss: 1.106     data_loss: 1.106     reg_loss: 0.000     lr: 0.0002736 \n",
      "step: 1874      acc: 0.375     loss: 1.195     data_loss: 1.195     reg_loss: 0.000     lr: 0.0002730 \n",
      "\n",
      "Epoch 9.000000   summary:\n",
      "acc: 0.393     loss: 1.175     data_loss: 1.175     reg_loss: 0.000     lr: 0.0002730 \n",
      "\n"
     ]
    },
    {
     "data": {
      "application/vnd.jupyter.widget-view+json": {
       "model_id": "7c67b11bd9ea4e22aa91a450d6207c18",
       "version_major": 2,
       "version_minor": 0
      },
      "text/plain": [
       "Epoch 10:   0%|          | 0/1875 [00:00<?, ?it/s]"
      ]
     },
     "metadata": {},
     "output_type": "display_data"
    },
    {
     "name": "stdout",
     "output_type": "stream",
     "text": [
      "step: 0         acc: 0.312     loss: 1.223     data_loss: 1.223     reg_loss: 0.000     lr: 0.0002730 \n",
      "step: 100       acc: 0.500     loss: 1.068     data_loss: 1.068     reg_loss: 0.000     lr: 0.0002723 \n",
      "step: 200       acc: 0.531     loss: 1.271     data_loss: 1.271     reg_loss: 0.000     lr: 0.0002716 \n",
      "step: 300       acc: 0.531     loss: 1.138     data_loss: 1.138     reg_loss: 0.000     lr: 0.0002708 \n",
      "step: 400       acc: 0.375     loss: 1.210     data_loss: 1.210     reg_loss: 0.000     lr: 0.0002701 \n",
      "step: 500       acc: 0.312     loss: 1.239     data_loss: 1.239     reg_loss: 0.000     lr: 0.0002694 \n",
      "step: 600       acc: 0.469     loss: 1.093     data_loss: 1.093     reg_loss: 0.000     lr: 0.0002686 \n",
      "step: 700       acc: 0.438     loss: 1.213     data_loss: 1.213     reg_loss: 0.000     lr: 0.0002679 \n",
      "step: 800       acc: 0.344     loss: 1.081     data_loss: 1.081     reg_loss: 0.000     lr: 0.0002672 \n",
      "step: 900       acc: 0.125     loss: 1.442     data_loss: 1.442     reg_loss: 0.000     lr: 0.0002665 \n",
      "step: 1000      acc: 0.500     loss: 1.082     data_loss: 1.082     reg_loss: 0.000     lr: 0.0002658 \n",
      "step: 1100      acc: 0.312     loss: 1.036     data_loss: 1.036     reg_loss: 0.000     lr: 0.0002651 \n",
      "step: 1200      acc: 0.375     loss: 1.076     data_loss: 1.076     reg_loss: 0.000     lr: 0.0002644 \n",
      "step: 1300      acc: 0.469     loss: 1.122     data_loss: 1.122     reg_loss: 0.000     lr: 0.0002637 \n",
      "step: 1400      acc: 0.375     loss: 1.232     data_loss: 1.232     reg_loss: 0.000     lr: 0.0002630 \n",
      "step: 1500      acc: 0.438     loss: 1.122     data_loss: 1.122     reg_loss: 0.000     lr: 0.0002623 \n",
      "step: 1600      acc: 0.469     loss: 1.144     data_loss: 1.144     reg_loss: 0.000     lr: 0.0002616 \n",
      "step: 1700      acc: 0.500     loss: 0.994     data_loss: 0.994     reg_loss: 0.000     lr: 0.0002609 \n",
      "step: 1800      acc: 0.344     loss: 1.106     data_loss: 1.106     reg_loss: 0.000     lr: 0.0002602 \n",
      "step: 1874      acc: 0.375     loss: 1.195     data_loss: 1.195     reg_loss: 0.000     lr: 0.0002597 \n",
      "\n",
      "Epoch 10.000000  summary:\n",
      "acc: 0.394     loss: 1.173     data_loss: 1.173     reg_loss: 0.000     lr: 0.0002597 \n",
      "\n"
     ]
    }
   ],
   "source": [
    "model.train(\n",
    "    X=X_ssftrain,\n",
    "    y=y,\n",
    "    epochs=10,\n",
    "    batch_size=32,\n",
    "    print_every=100,\n",
    "    validation_data=None,\n",
    ")"
   ]
  },
  {
   "cell_type": "code",
   "execution_count": 8,
   "metadata": {},
   "outputs": [
    {
     "data": {
      "application/vnd.jupyter.widget-view+json": {
       "model_id": "4bff747d32344f749343be2e01b04b02",
       "version_major": 2,
       "version_minor": 0
      },
      "text/plain": [
       "  0%|          | 0/3 [00:00<?, ?it/s]"
      ]
     },
     "metadata": {},
     "output_type": "display_data"
    },
    {
     "data": {
      "application/vnd.jupyter.widget-view+json": {
       "model_id": "fa76ffa91c524b92b54cabe0810d8236",
       "version_major": 2,
       "version_minor": 0
      },
      "text/plain": [
       "  0%|          | 0/3 [00:00<?, ?it/s]"
      ]
     },
     "metadata": {},
     "output_type": "display_data"
    },
    {
     "name": "stdout",
     "output_type": "stream",
     "text": [
      "Hello from iteration 0, 0\n",
      "Hello from iteration 0, 1\n",
      "Hello from iteration 0, 1\n",
      "Hello from iteration 0, 2\n",
      "Hello from iteration 0, 2\n"
     ]
    },
    {
     "data": {
      "application/vnd.jupyter.widget-view+json": {
       "model_id": "36ebeea4bfdd4b1dbe785f6f484ad8b2",
       "version_major": 2,
       "version_minor": 0
      },
      "text/plain": [
       "  0%|          | 0/3 [00:00<?, ?it/s]"
      ]
     },
     "metadata": {},
     "output_type": "display_data"
    },
    {
     "name": "stdout",
     "output_type": "stream",
     "text": [
      "Hello from iteration 1, 0\n",
      "Hello from iteration 1, 1\n",
      "Hello from iteration 1, 1\n",
      "Hello from iteration 1, 2\n",
      "Hello from iteration 1, 2\n"
     ]
    },
    {
     "data": {
      "application/vnd.jupyter.widget-view+json": {
       "model_id": "b562eb8eb9f44742a0b1335fe5ec3824",
       "version_major": 2,
       "version_minor": 0
      },
      "text/plain": [
       "  0%|          | 0/3 [00:00<?, ?it/s]"
      ]
     },
     "metadata": {},
     "output_type": "display_data"
    },
    {
     "name": "stdout",
     "output_type": "stream",
     "text": [
      "Hello from iteration 2, 0\n",
      "Hello from iteration 2, 1\n",
      "Hello from iteration 2, 1\n",
      "Hello from iteration 2, 2\n",
      "Hello from iteration 2, 2\n"
     ]
    }
   ],
   "source": [
    "from time import sleep\n",
    "from tqdm.auto import tqdm\n",
    "\n",
    "for _i in tqdm(range(3), position=0, leave=True):\n",
    "    for _j in tqdm(range(3), position=1, leave=True):\n",
    "        sleep(1)\n",
    "        tqdm.write(f\"Hello from iteration {_i}, {_j}\")"
   ]
  },
  {
   "cell_type": "code",
   "execution_count": 2,
   "metadata": {},
   "outputs": [
    {
     "data": {
      "text/plain": [
       "{'__name__': '__main__',\n",
       " '__doc__': 'Automatically created module for IPython interactive environment',\n",
       " '__package__': None,\n",
       " '__loader__': None,\n",
       " '__spec__': None,\n",
       " '__builtin__': <module 'builtins' (built-in)>,\n",
       " '__builtins__': <module 'builtins' (built-in)>,\n",
       " '_ih': ['',\n",
       "  'globals()',\n",
       "  'x: int\\n\\n\\ndef call_me_fuction():\\n    pass\\n\\n\\nclass CallMeClass:\\n    pass\\n\\n\\nglobals()'],\n",
       " '_oh': {1: {...}},\n",
       " '_dh': [PosixPath('/home/keerthivasan_user/Documents/git/netweaver/notebooks')],\n",
       " 'In': ['',\n",
       "  'globals()',\n",
       "  'x: int\\n\\n\\ndef call_me_fuction():\\n    pass\\n\\n\\nclass CallMeClass:\\n    pass\\n\\n\\nglobals()'],\n",
       " 'Out': {1: {...}},\n",
       " 'get_ipython': <bound method InteractiveShell.get_ipython of <ipykernel.zmqshell.ZMQInteractiveShell object at 0x7caee8691940>>,\n",
       " 'exit': <IPython.core.autocall.ZMQExitAutocall at 0x7caee84b9be0>,\n",
       " 'quit': <IPython.core.autocall.ZMQExitAutocall at 0x7caee84b9be0>,\n",
       " 'open': <function _io.open(file, mode='r', buffering=-1, encoding=None, errors=None, newline=None, closefd=True, opener=None)>,\n",
       " '_': {...},\n",
       " '__': '',\n",
       " '___': '',\n",
       " '__vsc_ipynb_file__': '/home/keerthivasan_user/Documents/git/netweaver/notebooks/DatasetAnalysis.ipynb',\n",
       " '_i': 'globals()',\n",
       " '_ii': '',\n",
       " '_iii': '',\n",
       " '_i1': 'globals()',\n",
       " '_1': {...},\n",
       " '_i2': 'x: int\\n\\n\\ndef call_me_fuction():\\n    pass\\n\\n\\nclass CallMeClass:\\n    pass\\n\\n\\nglobals()',\n",
       " '__annotations__': {'x': int},\n",
       " 'call_me_fuction': <function __main__.call_me_fuction()>,\n",
       " 'CallMeClass': __main__.CallMeClass}"
      ]
     },
     "execution_count": 2,
     "metadata": {},
     "output_type": "execute_result"
    }
   ],
   "source": [
    "x: int\n",
    "\n",
    "\n",
    "def call_me_fuction():\n",
    "    pass\n",
    "\n",
    "\n",
    "class CallMeClass:\n",
    "    pass\n",
    "\n",
    "\n",
    "globals()"
   ]
  },
  {
   "cell_type": "code",
   "execution_count": null,
   "metadata": {},
   "outputs": [],
   "source": []
  }
 ],
 "metadata": {
  "kernelspec": {
   "display_name": ".venv",
   "language": "python",
   "name": "python3"
  },
  "language_info": {
   "codemirror_mode": {
    "name": "ipython",
    "version": 3
   },
   "file_extension": ".py",
   "mimetype": "text/x-python",
   "name": "python",
   "nbconvert_exporter": "python",
   "pygments_lexer": "ipython3",
   "version": "3.13.2"
  }
 },
 "nbformat": 4,
 "nbformat_minor": 2
}
