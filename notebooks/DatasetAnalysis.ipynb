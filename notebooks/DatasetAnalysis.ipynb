{
 "cells": [
  {
   "cell_type": "markdown",
   "metadata": {},
   "source": [
    "# Dataset Analysis"
   ]
  },
  {
   "cell_type": "code",
   "execution_count": 1,
   "metadata": {},
   "outputs": [],
   "source": [
    "import cv2\n",
    "import numpy as np\n",
    "\n",
    "np.set_printoptions(linewidth=200)\n",
    "image_data = cv2.imread(\n",
    "    \"/home/keerthivasan_user/Documents/git/netweaver/datasets/fashion_mnist_images/train/0/0000.png\"\n",
    ")\n",
    "image_data_unchanged = cv2.imread(\n",
    "    \"/home/keerthivasan_user/Documents/git/netweaver/datasets/fashion_mnist_images/train/0/0000.png\",\n",
    "    cv2.IMREAD_UNCHANGED,\n",
    ")"
   ]
  },
  {
   "cell_type": "code",
   "execution_count": 2,
   "metadata": {},
   "outputs": [
    {
     "name": "stdout",
     "output_type": "stream",
     "text": [
      "Data type of image_data: <class 'numpy.ndarray'> shape: (28, 28, 3) dtype: <class 'numpy.uint8'>\n",
      "   image_data_unchanged: <class 'numpy.ndarray'> shape: (28, 28)    dtype: <class 'numpy.uint8'>\n"
     ]
    }
   ],
   "source": [
    "print(f\"\"\"Data type of image_data: {type(image_data)} shape: {image_data.shape} dtype: {type(image_data[0][0][0])}\n",
    "   image_data_unchanged: {type(image_data_unchanged)} shape: {image_data_unchanged.shape}    dtype: {type(image_data_unchanged[0][0])}\"\"\")"
   ]
  },
  {
   "cell_type": "code",
   "execution_count": 3,
   "metadata": {},
   "outputs": [
    {
     "data": {
      "image/png": "[encoded data removed]",
      "text/plain": [
       "<Figure size 1000x500 with 2 Axes>"
      ]
     },
     "metadata": {},
     "output_type": "display_data"
    },
    {
     "name": "stdout",
     "output_type": "stream",
     "text": [
      "[[  0   0   0   0   0   1   0   0   0   0  41 188 103  54  48  43  87 168 133  16   0   0   0   0   0   0   0   0]\n",
      " [  0   0   0   1   0   0   0  49 136 219 216 228 236 255 255 255 255 217 215 254 231 160  45   0   0   0   0   0]\n",
      " [  0   0   0   0   0  14 176 222 224 212 203 198 196 200 215 204 202 201 201 201 209 218 224 164   0   0   0   0]\n",
      " [  0   0   0   0   0 188 219 200 198 202 198 199 199 201 196 198 198 200 200 200 200 201 200 225  41   0   0   0]\n",
      " [  0   0   0   0  51 219 199 203 203 212 238 248 250 245 249 246 247 252 248 235 207 203 203 222 140   0   0   0]\n",
      " [  0   0   0   0 116 226 206 204 207 204 101  75  47  73  48  50  45  51  63 113 222 202 206 220 224   0   0   0]\n",
      " [  0   0   0   0 200 222 209 203 215 200   0  70  98   0 103  59  68  71  49   0 219 206 214 210 250  38   0   0]\n",
      " [  0   0   0   0 247 218 212 210 215 214   0 254 243 139 255 174 251 255 205   0 215 217 214 208 220  95   0   0]\n",
      " [  0   0   0  45 226 214 214 215 224 205   0  42  35  60  16  17  12  13  70   0 189 216 212 206 212 156   0   0]\n",
      " [  0   0   0 164 235 214 211 220 216 201  52  71  89  94  83  78  70  76  92  87 206 207 222 213 219 208   0   0]\n",
      " [  0   0   0 106 187 223 237 248 211 198 252 250 248 245 248 252 253 250 252 239 201 212 225 215 193 113   0   0]\n",
      " [  0   0   0   0   0  17  54 159 222 193 208 192 197 200 200 200 200 201 203 195 210 165   0   0   0   0   0   0]\n",
      " [  0   0   0   0   0   0   0  47 225 192 214 203 206 204 204 205 206 204 212 197 218 107   0   0   0   0   0   0]\n",
      " [  0   0   0   0   1   6   0  46 212 195 212 202 206 205 204 205 206 204 212 200 218  91   0   3   1   0   0   0]\n",
      " [  0   0   0   0   0   1   0  11 197 199 205 202 205 206 204 205 207 204 205 205 218  77   0   5   0   0   0   0]\n",
      " [  0   0   0   0   0   3   0   2 191 198 201 205 206 205 205 206 209 206 199 209 219  74   0   5   0   0   0   0]\n",
      " [  0   0   0   0   0   2   0   0 188 197 200 207 207 204 207 207 210 208 198 207 221  72   0   4   0   0   0   0]\n",
      " [  0   0   0   0   0   2   0   0 215 198 203 206 208 205 207 207 210 208 200 202 222  75   0   4   0   0   0   0]\n",
      " [  0   0   0   0   0   1   0   0 212 198 209 206 209 206 208 207 211 206 205 198 221  80   0   3   0   0   0   0]\n",
      " [  0   0   0   0   0   1   0   0 204 201 205 208 207 205 211 205 210 210 209 195 221  96   0   3   0   0   0   0]\n",
      " [  0   0   0   0   0   1   0   0 202 201 205 209 207 205 213 206 210 209 210 194 217 105   0   2   0   0   0   0]\n",
      " [  0   0   0   0   0   1   0   0 204 204 205 208 207 205 215 207 210 208 211 193 213 115   0   2   0   0   0   0]\n",
      " [  0   0   0   0   0   0   0   0 204 207 207 208 206 206 215 210 210 207 212 195 210 118   0   2   0   0   0   0]\n",
      " [  0   0   0   0   0   1   0   0 198 208 208 208 204 207 212 212 210 207 211 196 207 121   0   1   0   0   0   0]\n",
      " [  0   0   0   0   0   1   0   0 198 210 207 208 206 209 213 212 211 207 210 197 207 124   0   1   0   0   0   0]\n",
      " [  0   0   0   0   0   0   0   0 172 210 203 201 199 204 207 205 204 201 205 197 206 127   0   0   0   0   0   0]\n",
      " [  0   0   0   0   0   0   0   0 188 221 214 234 236 238 244 244 244 240 243 214 224 162   0   2   0   0   0   0]\n",
      " [  0   0   0   0   0   1   0   0 139 146 130 135 135 137 125 124 125 121 119 114 130  76   0   0   0   0   0   0]]\n"
     ]
    }
   ],
   "source": [
    "import matplotlib.pyplot as plt\n",
    "\n",
    "fig, axes = plt.subplots(1, 2, figsize=(10, 5))\n",
    "axes[0].imshow(image_data)\n",
    "axes[0].set_title(\"image_data\")\n",
    "axes[0].axis(\"off\")\n",
    "\n",
    "axes[1].imshow(image_data_unchanged)\n",
    "axes[1].set_title(\"image_data_unchanged\")\n",
    "axes[1].axis(\"off\")\n",
    "\n",
    "plt.tight_layout()\n",
    "plt.show()\n",
    "print(image_data_unchanged)"
   ]
  },
  {
   "cell_type": "markdown",
   "metadata": {},
   "source": [
    "# Dataset Preparation"
   ]
  },
  {
   "cell_type": "code",
   "execution_count": 4,
   "metadata": {},
   "outputs": [
    {
     "name": "stdout",
     "output_type": "stream",
     "text": [
      "/home/keerthivasan_user/.local/share/uv/python/cpython-3.13.2-linux-x86_64-gnu/lib/python313.zip\n",
      "/home/keerthivasan_user/.local/share/uv/python/cpython-3.13.2-linux-x86_64-gnu/lib/python3.13\n",
      "/home/keerthivasan_user/.local/share/uv/python/cpython-3.13.2-linux-x86_64-gnu/lib/python3.13/lib-dynload\n",
      "\n",
      "/home/keerthivasan_user/Documents/git/netweaver/.venv/lib/python3.13/site-packages\n",
      "/home/keerthivasan_user/Documents/git/netweaver/src\n"
     ]
    }
   ],
   "source": [
    "import sys\n",
    "\n",
    "print(*sys.path, sep=\"\\n\")"
   ]
  },
  {
   "cell_type": "code",
   "execution_count": 1,
   "metadata": {},
   "outputs": [],
   "source": [
    "from netweaver import create_data_mnist, download_fashion_mnist_dataset"
   ]
  },
  {
   "cell_type": "markdown",
   "metadata": {},
   "source": [
    "## Download"
   ]
  },
  {
   "cell_type": "code",
   "execution_count": 2,
   "metadata": {},
   "outputs": [
    {
     "name": "stdout",
     "output_type": "stream",
     "text": [
      "Fashion_mnish_dataset is already available in /home/keerthivasan_user/Documents/git/netweaver/datasets/fashion_mnist_images\n"
     ]
    }
   ],
   "source": [
    "project_root_path = \"/home/keerthivasan_user/Documents/git/netweaver\"\n",
    "download_fashion_mnist_dataset(project_root_path)"
   ]
  },
  {
   "cell_type": "markdown",
   "metadata": {},
   "source": [
    "## Load into memory"
   ]
  },
  {
   "cell_type": "code",
   "execution_count": 3,
   "metadata": {},
   "outputs": [
    {
     "name": "stdout",
     "output_type": "stream",
     "text": [
      "X shape:      (60000, 28, 28) dtype(<class 'numpy.uint8'>) mem usage: 0.044Gb used, y shape:      (60000,) dtype(<class 'numpy.uint8'>) mem usage: 0.000Gb used\n",
      "X_test shape: (10000, 28, 28) dtype(<class 'numpy.uint8'>) mem usage: 0.007Gb used, y_test shape: (10000,) dtype(<class 'numpy.uint8'>) mem usage: 0.000Gb used\n"
     ]
    }
   ],
   "source": [
    "dataset_path = (\n",
    "    \"/home/keerthivasan_user/Documents/git/netweaver/datasets/fashion_mnist_images\"\n",
    ")\n",
    "X, y, X_test, y_test = create_data_mnist(dataset_path)"
   ]
  },
  {
   "cell_type": "markdown",
   "metadata": {},
   "source": [
    "# Data Preprocessing"
   ]
  },
  {
   "cell_type": "code",
   "execution_count": 12,
   "metadata": {},
   "outputs": [],
   "source": [
    "def min_max_values(X, X_test):\n",
    "    X_min, X_max = X.min(), X.max()\n",
    "    X_test_min, X_test_max = X_test.min(), X_test.max()\n",
    "    print(f\"X's      min: {X_min}, max:{X_max}\")\n",
    "    print(f\"X_test's min: {X_test_min}, max:{X_test_max}\")"
   ]
  },
  {
   "cell_type": "markdown",
   "metadata": {},
   "source": [
    "## Scaling\n"
   ]
  },
  {
   "cell_type": "code",
   "execution_count": 13,
   "metadata": {},
   "outputs": [],
   "source": [
    "import numpy as np\n",
    "\n",
    "\n",
    "def scale_mopo(arr: np.ndarray, max_half: float):\n",
    "    return (arr.astype(np.float32) - max_half) / max_half\n",
    "\n",
    "\n",
    "def scale_zo(arr: np.ndarray, max_value):\n",
    "    return arr.astype(np.float32) / max_value"
   ]
  },
  {
   "cell_type": "code",
   "execution_count": 14,
   "metadata": {},
   "outputs": [
    {
     "name": "stdout",
     "output_type": "stream",
     "text": [
      "X's      min: 0, max:255\n",
      "X_test's min: 0, max:255\n"
     ]
    }
   ],
   "source": [
    "min_max_values(X, X_test)"
   ]
  },
  {
   "cell_type": "code",
   "execution_count": 15,
   "metadata": {},
   "outputs": [],
   "source": [
    "Xtrain_max_half = X.max() / 2\n",
    "X_strain = scale_mopo(X, Xtrain_max_half)\n",
    "X_stest = scale_mopo(X_test, Xtrain_max_half)  # uses the same max_half value"
   ]
  },
  {
   "cell_type": "code",
   "execution_count": 16,
   "metadata": {},
   "outputs": [
    {
     "name": "stdout",
     "output_type": "stream",
     "text": [
      "X's      min: -1.0, max:1.0\n",
      "X_test's min: -1.0, max:1.0\n"
     ]
    }
   ],
   "source": [
    "min_max_values(X_strain, X_stest)"
   ]
  },
  {
   "cell_type": "markdown",
   "metadata": {},
   "source": [
    "## Flattening"
   ]
  },
  {
   "cell_type": "code",
   "execution_count": 17,
   "metadata": {},
   "outputs": [
    {
     "name": "stdout",
     "output_type": "stream",
     "text": [
      "(60000, 784)\n",
      "(10000, 784)\n"
     ]
    }
   ],
   "source": [
    "X_sftrain = X_strain.reshape(X_strain.shape[0], X_strain.shape[1] * X_strain.shape[2])\n",
    "X_sftest = X_stest.reshape(X_stest.shape[0], X_stest.shape[1] * X_stest.shape[2])\n",
    "print(X_sftrain.shape)\n",
    "print(X_sftest.shape)"
   ]
  },
  {
   "cell_type": "markdown",
   "metadata": {},
   "source": [
    "## shuffle"
   ]
  },
  {
   "cell_type": "code",
   "execution_count": 18,
   "metadata": {},
   "outputs": [
    {
     "name": "stdout",
     "output_type": "stream",
     "text": [
      "[8 9 4 3 8 8 4 9 5 4]\n"
     ]
    }
   ],
   "source": [
    "import numpy as np\n",
    "\n",
    "keys = np.array(range(X_sftrain.shape[0]))\n",
    "np.random.shuffle(keys)\n",
    "X_ssftrain = X_sftrain[keys]\n",
    "y = y[keys]\n",
    "print(y[:10])"
   ]
  },
  {
   "cell_type": "markdown",
   "metadata": {},
   "source": [
    "# Model Architecture and Creation"
   ]
  },
  {
   "cell_type": "code",
   "execution_count": 25,
   "metadata": {},
   "outputs": [],
   "source": [
    "from netweaver import (\n",
    "    AccuracyCategorical,\n",
    "    ActivationSoftmax,\n",
    "    LayerDense,\n",
    "    LossCategoricalCrossentropy,\n",
    "    Model,\n",
    "    OptimizerAdam,\n",
    ")"
   ]
  },
  {
   "cell_type": "code",
   "execution_count": 26,
   "metadata": {},
   "outputs": [],
   "source": [
    "model = Model()"
   ]
  },
  {
   "cell_type": "code",
   "execution_count": 27,
   "metadata": {},
   "outputs": [],
   "source": [
    "model.add(LayerDense(n_inputs=X_ssftrain.shape[1], n_neurons=20))\n",
    "model.add(ActivationSoftmax())\n",
    "model.add(LayerDense(n_inputs=20, n_neurons=20))\n",
    "model.add(ActivationSoftmax())\n",
    "model.add(LayerDense(n_inputs=20, n_neurons=10))\n",
    "model.add(ActivationSoftmax())"
   ]
  },
  {
   "cell_type": "code",
   "execution_count": 28,
   "metadata": {},
   "outputs": [],
   "source": [
    "model.set(\n",
    "    loss=LossCategoricalCrossentropy(),\n",
    "    optimizer=OptimizerAdam(learning_rate=0.01, decay=0.001),\n",
    "    accuracy=AccuracyCategorical(),\n",
    ")"
   ]
  },
  {
   "cell_type": "code",
   "execution_count": 29,
   "metadata": {},
   "outputs": [],
   "source": [
    "model.finalize()"
   ]
  },
  {
   "cell_type": "code",
   "execution_count": 30,
   "metadata": {},
   "outputs": [
    {
     "name": "stdout",
     "output_type": "stream",
     "text": [
      "epoch: 1\n",
      "step: 0         ,acc: 0.031     ,loss: 2.304     ,data_loss: 2.304     ,reg_loss: 0.000     ,lr: 0.0100000 \n",
      "step: 100       ,acc: 0.156     ,loss: 2.293     ,data_loss: 2.293     ,reg_loss: 0.000     ,lr: 0.0090909 \n",
      "step: 200       ,acc: 0.031     ,loss: 2.305     ,data_loss: 2.305     ,reg_loss: 0.000     ,lr: 0.0083333 \n",
      "step: 300       ,acc: 0.062     ,loss: 2.304     ,data_loss: 2.304     ,reg_loss: 0.000     ,lr: 0.0076923 \n",
      "step: 400       ,acc: 0.094     ,loss: 2.287     ,data_loss: 2.287     ,reg_loss: 0.000     ,lr: 0.0071429 \n",
      "step: 500       ,acc: 0.062     ,loss: 2.300     ,data_loss: 2.300     ,reg_loss: 0.000     ,lr: 0.0066667 \n",
      "step: 600       ,acc: 0.094     ,loss: 2.306     ,data_loss: 2.306     ,reg_loss: 0.000     ,lr: 0.0062500 \n",
      "step: 700       ,acc: 0.062     ,loss: 2.311     ,data_loss: 2.311     ,reg_loss: 0.000     ,lr: 0.0058824 \n",
      "step: 800       ,acc: 0.125     ,loss: 2.304     ,data_loss: 2.304     ,reg_loss: 0.000     ,lr: 0.0055556 \n",
      "step: 900       ,acc: 0.156     ,loss: 2.299     ,data_loss: 2.299     ,reg_loss: 0.000     ,lr: 0.0052632 \n",
      "step: 1000      ,acc: 0.156     ,loss: 2.286     ,data_loss: 2.286     ,reg_loss: 0.000     ,lr: 0.0050000 \n",
      "step: 1100      ,acc: 0.062     ,loss: 2.312     ,data_loss: 2.312     ,reg_loss: 0.000     ,lr: 0.0047619 \n",
      "step: 1200      ,acc: 0.000     ,loss: 2.313     ,data_loss: 2.313     ,reg_loss: 0.000     ,lr: 0.0045455 \n",
      "step: 1300      ,acc: 0.094     ,loss: 2.307     ,data_loss: 2.307     ,reg_loss: 0.000     ,lr: 0.0043478 \n",
      "step: 1400      ,acc: 0.094     ,loss: 2.298     ,data_loss: 2.298     ,reg_loss: 0.000     ,lr: 0.0041667 \n",
      "step: 1500      ,acc: 0.219     ,loss: 2.281     ,data_loss: 2.281     ,reg_loss: 0.000     ,lr: 0.0040000 \n",
      "step: 1600      ,acc: 0.062     ,loss: 2.317     ,data_loss: 2.317     ,reg_loss: 0.000     ,lr: 0.0038462 \n",
      "step: 1700      ,acc: 0.094     ,loss: 2.299     ,data_loss: 2.299     ,reg_loss: 0.000     ,lr: 0.0037037 \n",
      "step: 1800      ,acc: 0.031     ,loss: 2.315     ,data_loss: 2.315     ,reg_loss: 0.000     ,lr: 0.0035714 \n",
      "step: 1874      ,acc: 0.094     ,loss: 2.302     ,data_loss: 2.302     ,reg_loss: 0.000     ,lr: 0.0034795 \n",
      "\n",
      "Epoch {epoch:<10f} summary:\n",
      "acc: 0.099     , loss: 2.304     , data_loss: 2.304     , reg_loss: 0.000     , lr: 0.0034795 \n",
      "\n",
      "epoch: 2\n",
      "step: 0         ,acc: 0.031     ,loss: 2.314     ,data_loss: 2.314     ,reg_loss: 0.000     ,lr: 0.0034783 \n",
      "step: 100       ,acc: 0.156     ,loss: 2.295     ,data_loss: 2.295     ,reg_loss: 0.000     ,lr: 0.0033613 \n",
      "step: 200       ,acc: 0.156     ,loss: 2.294     ,data_loss: 2.294     ,reg_loss: 0.000     ,lr: 0.0032520 \n",
      "step: 300       ,acc: 0.062     ,loss: 2.307     ,data_loss: 2.307     ,reg_loss: 0.000     ,lr: 0.0031496 \n",
      "step: 400       ,acc: 0.062     ,loss: 2.299     ,data_loss: 2.299     ,reg_loss: 0.000     ,lr: 0.0030534 \n",
      "step: 500       ,acc: 0.062     ,loss: 2.300     ,data_loss: 2.300     ,reg_loss: 0.000     ,lr: 0.0029630 \n",
      "step: 600       ,acc: 0.094     ,loss: 2.303     ,data_loss: 2.303     ,reg_loss: 0.000     ,lr: 0.0028777 \n",
      "step: 700       ,acc: 0.031     ,loss: 2.305     ,data_loss: 2.305     ,reg_loss: 0.000     ,lr: 0.0027972 \n",
      "step: 800       ,acc: 0.125     ,loss: 2.300     ,data_loss: 2.300     ,reg_loss: 0.000     ,lr: 0.0027211 \n",
      "step: 900       ,acc: 0.156     ,loss: 2.301     ,data_loss: 2.301     ,reg_loss: 0.000     ,lr: 0.0026490 \n",
      "step: 1000      ,acc: 0.156     ,loss: 2.288     ,data_loss: 2.288     ,reg_loss: 0.000     ,lr: 0.0025806 \n",
      "step: 1100      ,acc: 0.062     ,loss: 2.308     ,data_loss: 2.308     ,reg_loss: 0.000     ,lr: 0.0025157 \n",
      "step: 1200      ,acc: 0.000     ,loss: 2.308     ,data_loss: 2.308     ,reg_loss: 0.000     ,lr: 0.0024540 \n",
      "step: 1300      ,acc: 0.062     ,loss: 2.306     ,data_loss: 2.306     ,reg_loss: 0.000     ,lr: 0.0023952 \n",
      "step: 1400      ,acc: 0.156     ,loss: 2.296     ,data_loss: 2.296     ,reg_loss: 0.000     ,lr: 0.0023392 \n",
      "step: 1500      ,acc: 0.219     ,loss: 2.290     ,data_loss: 2.290     ,reg_loss: 0.000     ,lr: 0.0022857 \n",
      "step: 1600      ,acc: 0.062     ,loss: 2.317     ,data_loss: 2.317     ,reg_loss: 0.000     ,lr: 0.0022346 \n",
      "step: 1700      ,acc: 0.094     ,loss: 2.302     ,data_loss: 2.302     ,reg_loss: 0.000     ,lr: 0.0021858 \n",
      "step: 1800      ,acc: 0.031     ,loss: 2.310     ,data_loss: 2.310     ,reg_loss: 0.000     ,lr: 0.0021390 \n",
      "step: 1874      ,acc: 0.094     ,loss: 2.301     ,data_loss: 2.301     ,reg_loss: 0.000     ,lr: 0.0021057 \n",
      "\n",
      "Epoch {epoch:<10f} summary:\n",
      "acc: 0.100     , loss: 2.303     , data_loss: 2.303     , reg_loss: 0.000     , lr: 0.0021057 \n",
      "\n"
     ]
    }
   ],
   "source": [
    "model.train(\n",
    "    X=X_ssftrain,\n",
    "    y=y,\n",
    "    epochs=2,\n",
    "    batch_size=32,\n",
    "    print_every=100,\n",
    "    validation_data=None,\n",
    ")"
   ]
  },
  {
   "cell_type": "code",
   "execution_count": null,
   "metadata": {},
   "outputs": [],
   "source": []
  }
 ],
 "metadata": {
  "kernelspec": {
   "display_name": ".venv",
   "language": "python",
   "name": "python3"
  },
  "language_info": {
   "codemirror_mode": {
    "name": "ipython",
    "version": 3
   },
   "file_extension": ".py",
   "mimetype": "text/x-python",
   "name": "python",
   "nbconvert_exporter": "python",
   "pygments_lexer": "ipython3",
   "version": "3.12.3"
  }
 },
 "nbformat": 4,
 "nbformat_minor": 2
}
