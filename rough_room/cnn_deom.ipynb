{
 "cells": [
  {
   "cell_type": "markdown",
   "id": "12255c1e",
   "metadata": {},
   "source": [
    "### testing conv layer"
   ]
  },
  {
   "cell_type": "code",
   "execution_count": 1,
   "id": "f710fcd9",
   "metadata": {},
   "outputs": [],
   "source": [
    "import numpy as np\n",
    "rng = np.random.default_rng()"
   ]
  },
  {
   "cell_type": "code",
   "execution_count": 2,
   "id": "cf3c2213",
   "metadata": {},
   "outputs": [],
   "source": [
    "from netweaver.layers import LayerConv"
   ]
  },
  {
   "cell_type": "markdown",
   "id": "527d0c61",
   "metadata": {},
   "source": [
    "Questoin?  \n",
    "available params (4) - kernel count, kernel size, stride and padding  \n",
    "1. input image dim = (2, 3, 10, 10) 2 images with 3 channels of size 10 x 10.  \n",
    "exp 1. kernel count is no of ouput channels for each image. balanced count provides easiness to extract useful patterns.  \n",
    "exp 2. kernel size is can be odd or even.\n",
    "exp 3. stride, default is 1. with stride > kernel, skips some pixels. some input and stride mismatches can skips right and bottom values.  \n",
    "exp 4. padding when with odd kernel, preserves the dim. with even kernel, it reduces by 1.\n",
    "\n",
    "padding is explicit preserving dimension while stride is to explicitly reduce the dimension.\n",
    "\n",
    "expectation?\n",
    "1. exp 1 \n",
    "    1. input (2, 3, 10/11, 10/11), kernel (4/5, 4/5), stride (equals kernel size)\n",
    "2. exp 2\n",
    "3. exp 3\n",
    "4. exp 4"
   ]
  },
  {
   "cell_type": "code",
   "execution_count": 3,
   "id": "d509a299",
   "metadata": {},
   "outputs": [
    {
     "name": "stdout",
     "output_type": "stream",
     "text": [
      "(2, 3, 11, 10)\n"
     ]
    }
   ],
   "source": [
    "# exp channels 3, kernel count 3, kernel size 5, padding valid.\n",
    "images_even_odd = rng.integers(low=-10, high=10, size=(2, 3, 11, 10))\n",
    "print(images_even_odd.shape)"
   ]
  },
  {
   "cell_type": "code",
   "execution_count": 4,
   "id": "41f4454c",
   "metadata": {},
   "outputs": [
    {
     "name": "stdout",
     "output_type": "stream",
     "text": [
      "(2, 3, 7, 6)\n",
      "(2, 3, 4, 3)\n"
     ]
    }
   ],
   "source": [
    "con_layer1 = LayerConv(input_channels=3, n_filters=3, filter_size=5, stride=1, padding=\"valid\")\n",
    "con_layer1.forward(inputs=images_even_odd, training=True)\n",
    "print(con_layer1.output.shape) # expected = (2, 3, 7, 6)\n",
    "\n",
    "# with stride 2, reduction of size by 75%\n",
    "con_layer2 = LayerConv(input_channels=3, n_filters=3, filter_size=5, stride=2, padding=\"valid\")\n",
    "con_layer2.forward(inputs=images_even_odd, training=True)\n",
    "print(con_layer2.output.shape) # expected = (2, 3, 4, 3)\n"
   ]
  },
  {
   "cell_type": "code",
   "execution_count": 5,
   "id": "f097f250",
   "metadata": {},
   "outputs": [
    {
     "name": "stdout",
     "output_type": "stream",
     "text": [
      "(2, 3, 11, 10)\n",
      "(2, 3, 10, 9)\n"
     ]
    }
   ],
   "source": [
    "con_layer1 = LayerConv(input_channels=3, n_filters=3, filter_size=5, stride=1, padding=\"same\")\n",
    "con_layer1.forward(inputs=images_even_odd, training=True)\n",
    "print(con_layer1.output.shape)  # expected = (2, 3, 11, 10)\n",
    "\n",
    "# even filter size\n",
    "con_layer1 = LayerConv(input_channels=3, n_filters=3, filter_size=4, stride=1, padding=\"same\")\n",
    "con_layer1.forward(inputs=images_even_odd, training=True)\n",
    "print(con_layer1.output.shape)  # expected = (2, 3, 10, 9)\n"
   ]
  },
  {
   "cell_type": "code",
   "execution_count": 6,
   "id": "d165e17b",
   "metadata": {},
   "outputs": [
    {
     "name": "stdout",
     "output_type": "stream",
     "text": [
      "(3, 3, 4, 4)\n",
      "Layer_Conv2D(): kernel_count:3 | kernel_channels:3 | kernel_dim:(4,4) | stride:(1,1) | padding:(1,1)\n"
     ]
    }
   ],
   "source": [
    "print(con_layer1.weights.shape)\n",
    "print(con_layer1)"
   ]
  },
  {
   "cell_type": "markdown",
   "id": "8443ba4a",
   "metadata": {},
   "source": [
    "### testing max pooling layer"
   ]
  },
  {
   "cell_type": "code",
   "execution_count": 11,
   "id": "844bfb11",
   "metadata": {},
   "outputs": [],
   "source": [
    "import numpy as np\n",
    "rng = np.random.default_rng()"
   ]
  },
  {
   "cell_type": "code",
   "execution_count": 12,
   "id": "dc827d74",
   "metadata": {},
   "outputs": [],
   "source": [
    "from netweaver.layers import LayerMaxPool2D"
   ]
  },
  {
   "cell_type": "code",
   "execution_count": 21,
   "id": "73eac3aa",
   "metadata": {},
   "outputs": [
    {
     "name": "stdout",
     "output_type": "stream",
     "text": [
      "[[[[  2  -8   0  -9   2   7  -1  -5 -10   7]\n",
      "   [  0   6  -5  -4  -7  -6   4   4   9  -9]\n",
      "   [  8   8   6   6   3   5  -1   5   3  -6]]\n",
      "\n",
      "  [[  5  -4  -5   4 -10  -8  -4   5   7  -7]\n",
      "   [ -5   8  -7   1  -6  -6 -10   5 -10  -6]\n",
      "   [ -6   8   5  -1  -5   9  -6  -1 -10   3]]\n",
      "\n",
      "  [[ -1 -10  -4   8   8 -10  -5   7  -7 -10]\n",
      "   [  4   4  -4  -5   3  -3   2  -3   2   6]\n",
      "   [ -2  -1  -6  -6   5   1   9 -10  -4  -5]]]\n",
      "\n",
      "\n",
      " [[[  4  -4  -4   3   4  -3   5 -10   3  -1]\n",
      "   [ -2   1   0   0   3   2  -2  -4   8   3]\n",
      "   [-10  -8   1  -5 -10 -10   5   5  -5   0]]\n",
      "\n",
      "  [[ -5   7  -7  -6   1  -4   3 -10   7  -4]\n",
      "   [  2   9  -2   7   3  -7   8  -9   8  -1]\n",
      "   [  8  -4  -9   1   8  -1   3  -7  -9  -9]]\n",
      "\n",
      "  [[ -8  -2  -4  -6   4  -6  -4   9   7   4]\n",
      "   [  4  -4  -7   1   0   7 -10   8 -10   1]\n",
      "   [ -9   8   6  -4  -4   2 -10   8  -6 -10]]]]\n"
     ]
    }
   ],
   "source": [
    "#  input with odd height and even width\n",
    "input_odd_even = rng.integers(low=-10, high=10, size=(2, 3, 11, 10))\n",
    "print(input_odd_even[:, :, -3:, :])\n"
   ]
  },
  {
   "cell_type": "code",
   "execution_count": null,
   "id": "41e3f4ea",
   "metadata": {},
   "outputs": [
    {
     "name": "stdout",
     "output_type": "stream",
     "text": [
      "(2, 3, 5, 5)\n",
      "[[[[ 9.  8.  8.  9.  6.]\n",
      "   [ 8.  2.  8. -2.  7.]\n",
      "   [ 8.  7. -2.  4.  7.]\n",
      "   [ 7.  9.  9. -3.  8.]\n",
      "   [ 6.  0.  7.  4.  9.]]\n",
      "\n",
      "  [[ 7.  5.  4.  7.  7.]\n",
      "   [ 7.  8.  7.  4.  7.]\n",
      "   [ 4.  6.  8.  6.  1.]\n",
      "   [ 8. -2.  8.  9.  9.]\n",
      "   [ 8.  4. -6.  5.  7.]]\n",
      "\n",
      "  [[ 3.  7. -2.  6.  8.]\n",
      "   [ 9.  8.  7.  3.  2.]\n",
      "   [ 4.  9.  9.  8.  5.]\n",
      "   [ 8.  8.  8.  6.  9.]\n",
      "   [ 4.  8.  8.  7.  6.]]]\n",
      "\n",
      "\n",
      " [[[ 0.  1.  2.  8.  2.]\n",
      "   [ 0.  3.  4.  9.  3.]\n",
      "   [ 4.  8.  2.  9.  1.]\n",
      "   [ 7.  6.  4.  1.  6.]\n",
      "   [ 4.  3.  4.  5.  8.]]\n",
      "\n",
      "  [[ 8.  5.  8.  7.  6.]\n",
      "   [ 9.  3.  9.  8.  7.]\n",
      "   [ 1.  1.  9.  3.  7.]\n",
      "   [ 0.  9.  8.  6.  5.]\n",
      "   [ 9.  7.  3.  8.  8.]]\n",
      "\n",
      "  [[ 4.  1.  2.  9.  7.]\n",
      "   [ 8.  1. -4.  0. -1.]\n",
      "   [ 8.  9.  8.  7.  7.]\n",
      "   [-1.  7.  4.  7.  5.]\n",
      "   [ 4.  1.  7.  9.  7.]]]]\n"
     ]
    }
   ],
   "source": [
    "# max pooling always applied with stride, make sense. it reduces the dim by extracting important features.\n",
    "max_layer1 = LayerMaxPool2D(pool_size=(2,2), stride=(2, 2))\n",
    "max_layer1.forward(input_odd_even, training=True)\n",
    "print(max_layer1.output.shape) # expected shape (2, 3, 5, 5)\n",
    "print(max_layer1.output) # expected is last row is skipped due to stride cannot cover."
   ]
  },
  {
   "cell_type": "code",
   "execution_count": 24,
   "id": "c3afd142",
   "metadata": {},
   "outputs": [
    {
     "name": "stdout",
     "output_type": "stream",
     "text": [
      "Layer_MaxPool2D(): pool_size: (2,2) | stride: (2,2)\n"
     ]
    }
   ],
   "source": [
    "print(max_layer1)"
   ]
  },
  {
   "cell_type": "markdown",
   "id": "326dd9f7",
   "metadata": {},
   "source": [
    "### testing flattening layer"
   ]
  },
  {
   "cell_type": "code",
   "execution_count": 1,
   "id": "629e4c40",
   "metadata": {},
   "outputs": [],
   "source": [
    "import numpy as np\n",
    "rng = np.random.default_rng()"
   ]
  },
  {
   "cell_type": "code",
   "execution_count": 2,
   "id": "bec7c362",
   "metadata": {},
   "outputs": [
    {
     "name": "stdout",
     "output_type": "stream",
     "text": [
      "(2, 3, 2, 2)\n",
      "[[[[ 5 -3]\n",
      "   [-9  7]]\n",
      "\n",
      "  [[-6  0]\n",
      "   [-1 -1]]\n",
      "\n",
      "  [[ 7  3]\n",
      "   [ 8 -5]]]\n",
      "\n",
      "\n",
      " [[[-2 -9]\n",
      "   [ 9  0]]\n",
      "\n",
      "  [[ 4 -5]\n",
      "   [ 3 -4]]\n",
      "\n",
      "  [[-2 -2]\n",
      "   [ 7 -5]]]]\n"
     ]
    }
   ],
   "source": [
    "inputs = rng.integers(-10, 10, size=(2, 3, 2, 2))\n",
    "print(inputs.shape)\n",
    "print(inputs)"
   ]
  },
  {
   "cell_type": "code",
   "execution_count": 4,
   "id": "98dce1fb",
   "metadata": {},
   "outputs": [],
   "source": [
    "from netweaver.layers import LayerFlatten"
   ]
  },
  {
   "cell_type": "code",
   "execution_count": 5,
   "id": "0f70009f",
   "metadata": {},
   "outputs": [
    {
     "name": "stdout",
     "output_type": "stream",
     "text": [
      "(2, 12)\n",
      "[[ 5 -3 -9  7 -6  0 -1 -1  7  3  8 -5]\n",
      " [-2 -9  9  0  4 -5  3 -4 -2 -2  7 -5]]\n"
     ]
    }
   ],
   "source": [
    "flat_layer1 = LayerFlatten()\n",
    "flat_layer1.forward(inputs, training=False)\n",
    "print(flat_layer1.output.shape) # (2, 12)\n",
    "print(flat_layer1.output) # notice deserializatoin order"
   ]
  },
  {
   "cell_type": "code",
   "execution_count": 8,
   "id": "0d8faba3",
   "metadata": {},
   "outputs": [
    {
     "name": "stdout",
     "output_type": "stream",
     "text": [
      "(2, 3, 2, 2)\n",
      "[[[[ 5 -3]\n",
      "   [-9  7]]\n",
      "\n",
      "  [[-6  0]\n",
      "   [-1 -1]]\n",
      "\n",
      "  [[ 7  3]\n",
      "   [ 8 -5]]]\n",
      "\n",
      "\n",
      " [[[-2 -9]\n",
      "   [ 9  0]]\n",
      "\n",
      "  [[ 4 -5]\n",
      "   [ 3 -4]]\n",
      "\n",
      "  [[-2 -2]\n",
      "   [ 7 -5]]]]\n"
     ]
    }
   ],
   "source": [
    "flat_layer1.backward(flat_layer1.output)\n",
    "print(flat_layer1.dinputs.shape) # expected (2, 3, 2, 2)\n",
    "print(flat_layer1.dinputs) # notice the serialization order\n"
   ]
  },
  {
   "cell_type": "markdown",
   "id": "e2b9e28b",
   "metadata": {},
   "source": [
    "### testing out the whole cnn architecture"
   ]
  },
  {
   "cell_type": "code",
   "execution_count": 1,
   "id": "058aea39",
   "metadata": {},
   "outputs": [],
   "source": [
    "from netweaver.model import Model\n",
    "from netweaver.layers import LayerConv, LayerMaxPool2D, LayerFlatten, LayerDense\n",
    "from netweaver.activation_layers import ActivationReLU, ActivationSoftmax\n",
    "from netweaver.lossfunctions import LossCategoricalCrossentropy\n",
    "from netweaver.optimizers import OptimizerAdam\n",
    "from netweaver.accuracy import AccuracyCategorical"
   ]
  },
  {
   "cell_type": "code",
   "execution_count": 2,
   "id": "84dd4ab8",
   "metadata": {},
   "outputs": [],
   "source": [
    "model = Model()"
   ]
  },
  {
   "cell_type": "code",
   "execution_count": 3,
   "id": "cebaf048",
   "metadata": {},
   "outputs": [
    {
     "name": "stdout",
     "output_type": "stream",
     "text": [
      "The number of 'n_inputs' for the next dense layer will be 50\n"
     ]
    }
   ],
   "source": [
    "model.add(LayerConv(input_shape=(1, 28, 28), n_filters=1, filter_size=(3, 3), stride=1, padding=\"valid\"))\n",
    "model.add(ActivationReLU())\n",
    "model.add(LayerMaxPool2D(pool_size=(2,2), stride=(2,2)))\n",
    "model.add(LayerConv(input_shape=(1, 28, 28), n_filters=2, filter_size=(3, 3), stride=1, padding=\"valid\"))\n",
    "model.add(ActivationReLU())\n",
    "model.add(LayerMaxPool2D(pool_size=(2, 2), stride=(2, 2)))\n",
    "model.add(LayerFlatten())"
   ]
  },
  {
   "cell_type": "code",
   "execution_count": 4,
   "id": "757e5f2e",
   "metadata": {},
   "outputs": [],
   "source": [
    "model.add(LayerDense(n_inputs=50, n_neurons=16))\n",
    "model.add(ActivationReLU())\n",
    "model.add(LayerDense(n_inputs=16, n_neurons=12))\n",
    "model.add(ActivationReLU())\n",
    "model.add(LayerDense(n_inputs=12, n_neurons=10))\n",
    "model.add(ActivationSoftmax())"
   ]
  },
  {
   "cell_type": "code",
   "execution_count": 5,
   "id": "5d0bfa10",
   "metadata": {},
   "outputs": [],
   "source": [
    "model.set(loss=LossCategoricalCrossentropy(), optimizer=OptimizerAdam(), accuracy=AccuracyCategorical())"
   ]
  },
  {
   "cell_type": "code",
   "execution_count": 6,
   "id": "279e21b4",
   "metadata": {},
   "outputs": [
    {
     "name": "stdout",
     "output_type": "stream",
     "text": [
      "\n",
      "\n",
      "========================================================================================================================\n",
      "\n",
      "# Layer_Conv2D(): kernel_count:1 | kernel_channels:1 | kernel_dim:(3,3) | stride:(1,1) | padding:(0,0)| params: 10\n",
      "------------------------------------------------------------------------------------------------------------------------\n",
      "# Activation_ReLu()\n",
      "------------------------------------------------------------------------------------------------------------------------\n",
      "# Layer_MaxPool2D(): pool_size: (2,2) | stride: (2,2)\n",
      "------------------------------------------------------------------------------------------------------------------------\n",
      "# Layer_Conv2D(): kernel_count:2 | kernel_channels:1 | kernel_dim:(3,3) | stride:(1,1) | padding:(0,0)| params: 20\n",
      "------------------------------------------------------------------------------------------------------------------------\n",
      "# Activation_ReLu()\n",
      "------------------------------------------------------------------------------------------------------------------------\n",
      "# Layer_MaxPool2D(): pool_size: (2,2) | stride: (2,2)\n",
      "------------------------------------------------------------------------------------------------------------------------\n",
      "# Layer_Flatten()\n",
      "------------------------------------------------------------------------------------------------------------------------\n",
      "# Layer_Dense(): n_inputs: 50 | n_neurons: 16 | L1_w: 0.0 | L1_b: 0.0 | L2_w: 0.0 | L2_b: 0.0| params: 816\n",
      "------------------------------------------------------------------------------------------------------------------------\n",
      "# Activation_ReLu()\n",
      "------------------------------------------------------------------------------------------------------------------------\n",
      "# Layer_Dense(): n_inputs: 16 | n_neurons: 12 | L1_w: 0.0 | L1_b: 0.0 | L2_w: 0.0 | L2_b: 0.0| params: 204\n",
      "------------------------------------------------------------------------------------------------------------------------\n",
      "# Activation_ReLu()\n",
      "------------------------------------------------------------------------------------------------------------------------\n",
      "# Layer_Dense(): n_inputs: 12 | n_neurons: 10 | L1_w: 0.0 | L1_b: 0.0 | L2_w: 0.0 | L2_b: 0.0| params: 130\n",
      "------------------------------------------------------------------------------------------------------------------------\n",
      "# Activation_Softmax()\n",
      "\n",
      "========================================================================================================================\n",
      "\n",
      "# Loss_CategoricalCrossEntropy()\n",
      "------------------------------------------------------------------------------------------------------------------------\n",
      "# Optimizer_Adam(): Learning_Rate: 0.001| Decay_rate: 0.0| Beta_1: 0.9| Beta_2: 0.999| valued steps: decay rate is 0\n",
      "------------------------------------------------------------------------------------------------------------------------\n",
      "# Accuracy_Categorical()\n",
      "\n",
      "========================================================================================================================\n",
      "\n",
      "Total trainable Params: 1,180\n",
      "\n",
      "========================================================================================================================\n",
      "\n",
      "\n"
     ]
    }
   ],
   "source": [
    "model.finalize()"
   ]
  },
  {
   "cell_type": "code",
   "execution_count": 7,
   "id": "3455cd87",
   "metadata": {},
   "outputs": [],
   "source": [
    "from netweaver.datasets import load_dataset"
   ]
  },
  {
   "cell_type": "code",
   "execution_count": 8,
   "id": "837b8e88",
   "metadata": {},
   "outputs": [
    {
     "data": {
      "application/vnd.jupyter.widget-view+json": {
       "model_id": "cf4efec8f99f43d899fc402938a88d89",
       "version_major": 2,
       "version_minor": 0
      },
      "text/plain": [
       "train set loading:   0%|          | 0/10 [00:00<?, ?labels/s]"
      ]
     },
     "metadata": {},
     "output_type": "display_data"
    },
    {
     "data": {
      "application/vnd.jupyter.widget-view+json": {
       "model_id": "736a21e21fd4461587645af2a02ed5b1",
       "version_major": 2,
       "version_minor": 0
      },
      "text/plain": [
       "test set loading:   0%|          | 0/10 [00:00<?, ?labels/s]"
      ]
     },
     "metadata": {},
     "output_type": "display_data"
    },
    {
     "name": "stdout",
     "output_type": "stream",
     "text": [
      "Property                 | instances_train  gtruth_train     instances_test   gtruth_test      \n",
      "-----------------------------------------------------------------------------------------------\n",
      "instances count          | 60000            60000            10000            10000            \n",
      "shape of the set         | (60000, 28, 28)  (60000,)         (10000, 28, 28)  (10000,)         \n",
      "shape of an instance     | (28, 28)         (1,)             (28, 28)         (1,)             \n",
      "Data type of unit        | float32          uint8            float32          uint8            \n",
      "Total memory (gb)        | 0.17524          0.00006          0.02921          0.00001          \n",
      "\n",
      "\n",
      "train labels count       : 10\n",
      "train labels values      : [0, 1, 2, 3, 4, 5, 6, 7, 8, 9]\n",
      "test labels count        : 10\n",
      "test labels values       : [0, 1, 2, 3, 4, 5, 6, 7, 8, 9]\n"
     ]
    }
   ],
   "source": [
    "data_path = \"/home/USER_NETWEAVER/project_netweaver/datasets/fashion_mnist_images\"\n",
    "trian_i, train_g, test_i, test_g = load_dataset(path=data_path)"
   ]
  },
  {
   "cell_type": "code",
   "execution_count": 9,
   "id": "0701a9a7",
   "metadata": {},
   "outputs": [],
   "source": [
    "def scale_neg_pos_one(arr, maxvalue):\n",
    "    max_half = maxvalue / 2\n",
    "    return (arr - max_half) / max_half\n",
    "\n",
    "\n",
    "def scale_zero_one(arr, maxvalue):\n",
    "    return arr / maxvalue"
   ]
  },
  {
   "cell_type": "code",
   "execution_count": 14,
   "id": "84df4495",
   "metadata": {},
   "outputs": [
    {
     "name": "stdout",
     "output_type": "stream",
     "text": [
      "(60000, 28, 28)\n",
      "(10000, 28, 28)\n"
     ]
    }
   ],
   "source": [
    "max_value = trian_i.max()\n",
    "instances_train = scale_zero_one(trian_i, max_value)\n",
    "instances_test = scale_zero_one(test_i, max_value)\n",
    "\n",
    "print(instances_train.shape)\n",
    "print(instances_test.shape)"
   ]
  },
  {
   "cell_type": "code",
   "execution_count": 15,
   "id": "69704ca0",
   "metadata": {},
   "outputs": [
    {
     "name": "stdout",
     "output_type": "stream",
     "text": [
      "(60000, 1, 28, 28)\n",
      "(10000, 1, 28, 28)\n"
     ]
    }
   ],
   "source": [
    "instances_train = instances_train.reshape(instances_train.shape[0], 1, instances_train.shape[1], instances_train.shape[2])\n",
    "instances_test = instances_test.reshape(instances_test.shape[0], 1, instances_test.shape[1], instances_test.shape[2])\n",
    "\n",
    "print(instances_train.shape)\n",
    "print(instances_test.shape)"
   ]
  },
  {
   "cell_type": "code",
   "execution_count": 16,
   "id": "d57d7cae",
   "metadata": {},
   "outputs": [
    {
     "name": "stdout",
     "output_type": "stream",
     "text": [
      "Model Architecture file: /home/USER_NETWEAVER/project_netweaver/rough_room/logs/model_training/model-20250712-000347/model-architecture-20250712-000347.txt\n",
      "Epoch Log: /home/USER_NETWEAVER/project_netweaver/rough_room/logs/model_training/model-20250712-000347/Log-epoch-20250712-000347.csv\n",
      "Batch Log: /home/USER_NETWEAVER/project_netweaver/rough_room/logs/model_training/model-20250712-000347/Log-batch-20250712-000347.csv\n"
     ]
    },
    {
     "data": {
      "application/vnd.jupyter.widget-view+json": {
       "model_id": "1cf36b722dd94683b55ac3eb6f84c584",
       "version_major": 2,
       "version_minor": 0
      },
      "text/plain": [
       "Training       :   0%|          | 0/10 [00:00<?, ?epoch/s]"
      ]
     },
     "metadata": {},
     "output_type": "display_data"
    },
    {
     "data": {
      "application/vnd.jupyter.widget-view+json": {
       "model_id": "d2c59623b8be4d509a870b152e6c8a2e",
       "version_major": 2,
       "version_minor": 0
      },
      "text/plain": [
       "Epoch 1       :   0%|          | 0/938 [00:00<?, ?batch/s]"
      ]
     },
     "metadata": {},
     "output_type": "display_data"
    },
    {
     "data": {
      "application/vnd.jupyter.widget-view+json": {
       "model_id": "a7c78e58db9147a594799e543f0eb7c7",
       "version_major": 2,
       "version_minor": 0
      },
      "text/plain": [
       "Epoch 2       :   0%|          | 0/938 [00:00<?, ?batch/s]"
      ]
     },
     "metadata": {},
     "output_type": "display_data"
    },
    {
     "data": {
      "application/vnd.jupyter.widget-view+json": {
       "model_id": "115ec4fb39164200b39b2f1aee6fd0a9",
       "version_major": 2,
       "version_minor": 0
      },
      "text/plain": [
       "Epoch 3       :   0%|          | 0/938 [00:00<?, ?batch/s]"
      ]
     },
     "metadata": {},
     "output_type": "display_data"
    },
    {
     "data": {
      "application/vnd.jupyter.widget-view+json": {
       "model_id": "1ad533609a8c4f27936bd5c5d7fcc0dd",
       "version_major": 2,
       "version_minor": 0
      },
      "text/plain": [
       "Epoch 4       :   0%|          | 0/938 [00:00<?, ?batch/s]"
      ]
     },
     "metadata": {},
     "output_type": "display_data"
    },
    {
     "data": {
      "application/vnd.jupyter.widget-view+json": {
       "model_id": "f919d01a7df8428d8a5267be8c591a4d",
       "version_major": 2,
       "version_minor": 0
      },
      "text/plain": [
       "Epoch 5       :   0%|          | 0/938 [00:00<?, ?batch/s]"
      ]
     },
     "metadata": {},
     "output_type": "display_data"
    },
    {
     "data": {
      "application/vnd.jupyter.widget-view+json": {
       "model_id": "3e5596b5e6984cfa9861d4e92a1e78c0",
       "version_major": 2,
       "version_minor": 0
      },
      "text/plain": [
       "Epoch 6       :   0%|          | 0/938 [00:00<?, ?batch/s]"
      ]
     },
     "metadata": {},
     "output_type": "display_data"
    },
    {
     "data": {
      "application/vnd.jupyter.widget-view+json": {
       "model_id": "a1b30b64b3bb4022b4dbbc5b1def8b7a",
       "version_major": 2,
       "version_minor": 0
      },
      "text/plain": [
       "Epoch 7       :   0%|          | 0/938 [00:00<?, ?batch/s]"
      ]
     },
     "metadata": {},
     "output_type": "display_data"
    },
    {
     "data": {
      "application/vnd.jupyter.widget-view+json": {
       "model_id": "a8cc94fbf4c84199b85348bd615015c6",
       "version_major": 2,
       "version_minor": 0
      },
      "text/plain": [
       "Epoch 8       :   0%|          | 0/938 [00:00<?, ?batch/s]"
      ]
     },
     "metadata": {},
     "output_type": "display_data"
    },
    {
     "data": {
      "application/vnd.jupyter.widget-view+json": {
       "model_id": "05b1d276353645039e011275652e4d11",
       "version_major": 2,
       "version_minor": 0
      },
      "text/plain": [
       "Epoch 9       :   0%|          | 0/938 [00:00<?, ?batch/s]"
      ]
     },
     "metadata": {},
     "output_type": "display_data"
    },
    {
     "data": {
      "application/vnd.jupyter.widget-view+json": {
       "model_id": "c390eb2dafe848e292021ceb98b8f809",
       "version_major": 2,
       "version_minor": 0
      },
      "text/plain": [
       "Epoch 10      :   0%|          | 0/938 [00:00<?, ?batch/s]"
      ]
     },
     "metadata": {},
     "output_type": "display_data"
    }
   ],
   "source": [
    "model.train(instances_train, train_g, epochs=10, batch_size=64)"
   ]
  }
 ],
 "metadata": {
  "kernelspec": {
   "display_name": "venv_netweaver",
   "language": "python",
   "name": "python3"
  },
  "language_info": {
   "codemirror_mode": {
    "name": "ipython",
    "version": 3
   },
   "file_extension": ".py",
   "mimetype": "text/x-python",
   "name": "python",
   "nbconvert_exporter": "python",
   "pygments_lexer": "ipython3",
   "version": "3.13.3"
  }
 },
 "nbformat": 4,
 "nbformat_minor": 5
}
